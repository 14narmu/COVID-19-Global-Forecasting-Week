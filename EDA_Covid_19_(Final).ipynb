{
  "nbformat": 4,
  "nbformat_minor": 0,
  "metadata": {
    "colab": {
      "name": "EDA - Covid -19 (Final).ipynb",
      "provenance": [],
      "authorship_tag": "ABX9TyOLjg1vfj3cBrqOkhYE60sY",
      "include_colab_link": true
    },
    "kernelspec": {
      "name": "python3",
      "display_name": "Python 3"
    }
  },
  "cells": [
    {
      "cell_type": "markdown",
      "metadata": {
        "id": "view-in-github",
        "colab_type": "text"
      },
      "source": [
        "<a href=\"https://colab.research.google.com/github/ShreyanshJoshi/COVID-19-Global-Forecasting-Week/blob/master/EDA_Covid_19_(Final).ipynb\" target=\"_parent\"><img src=\"https://colab.research.google.com/assets/colab-badge.svg\" alt=\"Open In Colab\"/></a>"
      ]
    },
    {
      "cell_type": "markdown",
      "metadata": {
        "id": "I2GB-NTOpPSk",
        "colab_type": "text"
      },
      "source": [
        "# **COVID-19  Global Forecasting Week (3)**- Kaggle"
      ]
    },
    {
      "cell_type": "markdown",
      "metadata": {
        "id": "xCyD9boUqhgv",
        "colab_type": "text"
      },
      "source": [
        "### `What is Coronavirus ? `\n",
        "Coronavirus are a type of virus. A newly identified coronavirus, SARS-CoV-2, has caused a worldwide pandemic of respiratory illness, called COVID-19.\n",
        "Coronavirus disease (COVID-19) is an infectious disease caused by a newly discovered coronavirus. \n",
        "At time of writing, it has affected 6.2 million people worldwide, claiming the lives of more than 375,000 people.\n",
        "#### `Spread -` \n",
        "The COVID-19 virus spreads primarily through droplets of saliva or discharge from the nose when an infected person coughs or sneezes. However, reports suggest that the virus is capable of surviving onto some surface for upto 6 hrs and hence may get transferred if a healthy person comes in contact with that surface.\n",
        "\n",
        "#### `Symptoms -`\n",
        "Most people infected with the COVID-19 virus will experience mild to moderate respiratory illness and recover without requiring special treatment. Older people, and those with underlying medical problems like cardiovascular disease, diabetes, chronic respiratory diseases are more likely to develop serious illness.\n",
        "\n",
        "In case you do not suffer from any such morbidity (and are young) then avoid getting hospitalised unless symptoms are severe. Doing so, will reduce burden on the healthcare system of a country. In majority of the cases, people can recover by quarantining themselves at home and taking the required medications.\n",
        "\n",
        "#### `Prevention -`\n",
        "* Best way to deal with such a contagious disease is not to get infected. This not only saves money, but also slows the spread of this deadly virus.\n",
        "* Protect yourself and others from infection by washing your hands or using an alcohol based rub frequently and not touching your face.\n",
        "\n",
        "* Avoid venturing out of your home unless absolutely essential and whenever you do, make sure that you wear a face mask (preferably N95) and avoid coming in contact with people or things.\n",
        "\n",
        "#### `Technical Developments -` \n",
        "At this time, there are no specific vaccines or treatments for COVID-19. However, there are many ongoing clinical trials evaluating potential treatments. WHO is the body who is primarily incharge of dealing with the virus.\n",
        "\n",
        "The COVID-19 pandemic is the defining global health crisis of our time and the greatest global humanitarian challenge the world has faced since World War II. Its time the world comes together to solve this crisis."
      ]
    },
    {
      "cell_type": "code",
      "metadata": {
        "id": "z0EHBzk3Xibp",
        "colab_type": "code",
        "outputId": "3f793413-99fe-487b-c3e0-18edb38f51e8",
        "colab": {
          "base_uri": "https://localhost:8080/",
          "height": 87
        }
      },
      "source": [
        "import pandas as pd\n",
        "import numpy as np\n",
        "import matplotlib.pyplot as plt\n",
        "import seaborn as sns\n",
        "from keras import optimizers,utils,regularizers\n",
        "from keras.models import Sequential, Model \n",
        "from keras.layers import Dropout, Flatten, Dense, GlobalAveragePooling2D,BatchNormalization,ZeroPadding2D, Input\n",
        "from keras.layers import Conv2D, Activation,MaxPooling2D"
      ],
      "execution_count": 1,
      "outputs": [
        {
          "output_type": "stream",
          "text": [
            "/usr/local/lib/python3.6/dist-packages/statsmodels/tools/_testing.py:19: FutureWarning: pandas.util.testing is deprecated. Use the functions in the public API at pandas.testing instead.\n",
            "  import pandas.util.testing as tm\n",
            "Using TensorFlow backend.\n"
          ],
          "name": "stderr"
        }
      ]
    },
    {
      "cell_type": "code",
      "metadata": {
        "id": "QPSrCS7sYvhf",
        "colab_type": "code",
        "outputId": "637acd12-9ce3-4c54-a682-198fbaf3f78c",
        "colab": {
          "base_uri": "https://localhost:8080/",
          "height": 121
        }
      },
      "source": [
        "from google.colab import drive\n",
        "drive.mount('/content/drive')\n"
      ],
      "execution_count": 2,
      "outputs": [
        {
          "output_type": "stream",
          "text": [
            "Go to this URL in a browser: https://accounts.google.com/o/oauth2/auth?client_id=947318989803-6bn6qk8qdgf4n4g3pfee6491hc0brc4i.apps.googleusercontent.com&redirect_uri=urn%3aietf%3awg%3aoauth%3a2.0%3aoob&response_type=code&scope=email%20https%3a%2f%2fwww.googleapis.com%2fauth%2fdocs.test%20https%3a%2f%2fwww.googleapis.com%2fauth%2fdrive%20https%3a%2f%2fwww.googleapis.com%2fauth%2fdrive.photos.readonly%20https%3a%2f%2fwww.googleapis.com%2fauth%2fpeopleapi.readonly\n",
            "\n",
            "Enter your authorization code:\n",
            "··········\n",
            "Mounted at /content/drive\n"
          ],
          "name": "stdout"
        }
      ]
    },
    {
      "cell_type": "code",
      "metadata": {
        "id": "i2dLIQuRY0Nh",
        "colab_type": "code",
        "colab": {}
      },
      "source": [
        "train = pd.read_csv('/content/drive/My Drive/Colab Notebooks/Covid-19/train.csv')\n",
        "test = pd.read_csv('/content/drive/My Drive/Colab Notebooks/Covid-19/test.csv')\n",
        "submission = pd.read_csv('/content/drive/My Drive/Colab Notebooks/Covid-19/submission.csv')"
      ],
      "execution_count": 0,
      "outputs": []
    },
    {
      "cell_type": "code",
      "metadata": {
        "id": "xp6jXNzySunE",
        "colab_type": "code",
        "outputId": "d6ccb81e-3199-4faf-8df6-7b55dc0ed657",
        "colab": {
          "base_uri": "https://localhost:8080/",
          "height": 225
        }
      },
      "source": [
        "# Another way to go about the dataset is to parse thru dates instead of index\n",
        "\n",
        "train_cpy = pd.read_csv('/content/drive/My Drive/Colab Notebooks/Covid-19/train.csv',parse_dates=[\"Date\"], index_col='Date')\n",
        "train_cpy.head()"
      ],
      "execution_count": 4,
      "outputs": [
        {
          "output_type": "execute_result",
          "data": {
            "text/html": [
              "<div>\n",
              "<style scoped>\n",
              "    .dataframe tbody tr th:only-of-type {\n",
              "        vertical-align: middle;\n",
              "    }\n",
              "\n",
              "    .dataframe tbody tr th {\n",
              "        vertical-align: top;\n",
              "    }\n",
              "\n",
              "    .dataframe thead th {\n",
              "        text-align: right;\n",
              "    }\n",
              "</style>\n",
              "<table border=\"1\" class=\"dataframe\">\n",
              "  <thead>\n",
              "    <tr style=\"text-align: right;\">\n",
              "      <th></th>\n",
              "      <th>Id</th>\n",
              "      <th>Province_State</th>\n",
              "      <th>Country_Region</th>\n",
              "      <th>ConfirmedCases</th>\n",
              "      <th>Fatalities</th>\n",
              "    </tr>\n",
              "    <tr>\n",
              "      <th>Date</th>\n",
              "      <th></th>\n",
              "      <th></th>\n",
              "      <th></th>\n",
              "      <th></th>\n",
              "      <th></th>\n",
              "    </tr>\n",
              "  </thead>\n",
              "  <tbody>\n",
              "    <tr>\n",
              "      <th>2020-01-22</th>\n",
              "      <td>1</td>\n",
              "      <td>NaN</td>\n",
              "      <td>Afghanistan</td>\n",
              "      <td>0.0</td>\n",
              "      <td>0.0</td>\n",
              "    </tr>\n",
              "    <tr>\n",
              "      <th>2020-01-23</th>\n",
              "      <td>2</td>\n",
              "      <td>NaN</td>\n",
              "      <td>Afghanistan</td>\n",
              "      <td>0.0</td>\n",
              "      <td>0.0</td>\n",
              "    </tr>\n",
              "    <tr>\n",
              "      <th>2020-01-24</th>\n",
              "      <td>3</td>\n",
              "      <td>NaN</td>\n",
              "      <td>Afghanistan</td>\n",
              "      <td>0.0</td>\n",
              "      <td>0.0</td>\n",
              "    </tr>\n",
              "    <tr>\n",
              "      <th>2020-01-25</th>\n",
              "      <td>4</td>\n",
              "      <td>NaN</td>\n",
              "      <td>Afghanistan</td>\n",
              "      <td>0.0</td>\n",
              "      <td>0.0</td>\n",
              "    </tr>\n",
              "    <tr>\n",
              "      <th>2020-01-26</th>\n",
              "      <td>5</td>\n",
              "      <td>NaN</td>\n",
              "      <td>Afghanistan</td>\n",
              "      <td>0.0</td>\n",
              "      <td>0.0</td>\n",
              "    </tr>\n",
              "  </tbody>\n",
              "</table>\n",
              "</div>"
            ],
            "text/plain": [
              "            Id Province_State Country_Region  ConfirmedCases  Fatalities\n",
              "Date                                                                    \n",
              "2020-01-22   1            NaN    Afghanistan             0.0         0.0\n",
              "2020-01-23   2            NaN    Afghanistan             0.0         0.0\n",
              "2020-01-24   3            NaN    Afghanistan             0.0         0.0\n",
              "2020-01-25   4            NaN    Afghanistan             0.0         0.0\n",
              "2020-01-26   5            NaN    Afghanistan             0.0         0.0"
            ]
          },
          "metadata": {
            "tags": []
          },
          "execution_count": 4
        }
      ]
    },
    {
      "cell_type": "code",
      "metadata": {
        "id": "o9xnGKLOzKox",
        "colab_type": "code",
        "colab": {}
      },
      "source": [
        "train.rename(columns={'Country_Region':'Country'}, inplace=True)\n",
        "test.rename(columns={'Country_Region':'Country'}, inplace=True)\n",
        "\n",
        "train.rename(columns={'Province_State':'State'}, inplace=True)\n",
        "test.rename(columns={'Province_State':'State'}, inplace=True)"
      ],
      "execution_count": 0,
      "outputs": []
    },
    {
      "cell_type": "code",
      "metadata": {
        "id": "j3ideHVNzRA4",
        "colab_type": "code",
        "colab": {}
      },
      "source": [
        "train['Date'] = pd.to_datetime(train['Date'], infer_datetime_format=True)\n",
        "test['Date'] = pd.to_datetime(test['Date'], infer_datetime_format=True)\n",
        "\n",
        "# Currently, the date is coming as a string. Lets convert it into datetime format so that EDA on the data becomes easier."
      ],
      "execution_count": 0,
      "outputs": []
    },
    {
      "cell_type": "code",
      "metadata": {
        "id": "qSnZRhhGdnkk",
        "colab_type": "code",
        "outputId": "ee29f875-f23f-4d41-afe5-5f14f21c9f1b",
        "colab": {
          "base_uri": "https://localhost:8080/",
          "height": 50
        }
      },
      "source": [
        "train_date_min = train['Date'].min()\n",
        "train_date_max = train['Date'].max()\n",
        "print('Minimum date from training set: {}'.format(train_date_min))\n",
        "print('Maximum date from training set: {}'.format(train_date_max))"
      ],
      "execution_count": 7,
      "outputs": [
        {
          "output_type": "stream",
          "text": [
            "Minimum date from training set: 2020-01-22 00:00:00\n",
            "Maximum date from training set: 2020-04-07 00:00:00\n"
          ],
          "name": "stdout"
        }
      ]
    },
    {
      "cell_type": "code",
      "metadata": {
        "id": "fahCIABEZDaU",
        "colab_type": "code",
        "outputId": "d9eca6fa-36c7-4465-a341-a344d3d8d523",
        "colab": {
          "base_uri": "https://localhost:8080/",
          "height": 195
        }
      },
      "source": [
        "train.tail()"
      ],
      "execution_count": 8,
      "outputs": [
        {
          "output_type": "execute_result",
          "data": {
            "text/html": [
              "<div>\n",
              "<style scoped>\n",
              "    .dataframe tbody tr th:only-of-type {\n",
              "        vertical-align: middle;\n",
              "    }\n",
              "\n",
              "    .dataframe tbody tr th {\n",
              "        vertical-align: top;\n",
              "    }\n",
              "\n",
              "    .dataframe thead th {\n",
              "        text-align: right;\n",
              "    }\n",
              "</style>\n",
              "<table border=\"1\" class=\"dataframe\">\n",
              "  <thead>\n",
              "    <tr style=\"text-align: right;\">\n",
              "      <th></th>\n",
              "      <th>Id</th>\n",
              "      <th>State</th>\n",
              "      <th>Country</th>\n",
              "      <th>Date</th>\n",
              "      <th>ConfirmedCases</th>\n",
              "      <th>Fatalities</th>\n",
              "    </tr>\n",
              "  </thead>\n",
              "  <tbody>\n",
              "    <tr>\n",
              "      <th>23557</th>\n",
              "      <td>32708</td>\n",
              "      <td>NaN</td>\n",
              "      <td>Zimbabwe</td>\n",
              "      <td>2020-04-03</td>\n",
              "      <td>9.0</td>\n",
              "      <td>1.0</td>\n",
              "    </tr>\n",
              "    <tr>\n",
              "      <th>23558</th>\n",
              "      <td>32709</td>\n",
              "      <td>NaN</td>\n",
              "      <td>Zimbabwe</td>\n",
              "      <td>2020-04-04</td>\n",
              "      <td>9.0</td>\n",
              "      <td>1.0</td>\n",
              "    </tr>\n",
              "    <tr>\n",
              "      <th>23559</th>\n",
              "      <td>32710</td>\n",
              "      <td>NaN</td>\n",
              "      <td>Zimbabwe</td>\n",
              "      <td>2020-04-05</td>\n",
              "      <td>9.0</td>\n",
              "      <td>1.0</td>\n",
              "    </tr>\n",
              "    <tr>\n",
              "      <th>23560</th>\n",
              "      <td>32711</td>\n",
              "      <td>NaN</td>\n",
              "      <td>Zimbabwe</td>\n",
              "      <td>2020-04-06</td>\n",
              "      <td>10.0</td>\n",
              "      <td>1.0</td>\n",
              "    </tr>\n",
              "    <tr>\n",
              "      <th>23561</th>\n",
              "      <td>32712</td>\n",
              "      <td>NaN</td>\n",
              "      <td>Zimbabwe</td>\n",
              "      <td>2020-04-07</td>\n",
              "      <td>11.0</td>\n",
              "      <td>2.0</td>\n",
              "    </tr>\n",
              "  </tbody>\n",
              "</table>\n",
              "</div>"
            ],
            "text/plain": [
              "          Id State   Country       Date  ConfirmedCases  Fatalities\n",
              "23557  32708   NaN  Zimbabwe 2020-04-03             9.0         1.0\n",
              "23558  32709   NaN  Zimbabwe 2020-04-04             9.0         1.0\n",
              "23559  32710   NaN  Zimbabwe 2020-04-05             9.0         1.0\n",
              "23560  32711   NaN  Zimbabwe 2020-04-06            10.0         1.0\n",
              "23561  32712   NaN  Zimbabwe 2020-04-07            11.0         2.0"
            ]
          },
          "metadata": {
            "tags": []
          },
          "execution_count": 8
        }
      ]
    },
    {
      "cell_type": "code",
      "metadata": {
        "id": "I0mM2tHFZWJg",
        "colab_type": "code",
        "outputId": "40b00887-8650-4b05-f8ce-42983b0e39d8",
        "colab": {
          "base_uri": "https://localhost:8080/",
          "height": 195
        }
      },
      "source": [
        "test.head()"
      ],
      "execution_count": 9,
      "outputs": [
        {
          "output_type": "execute_result",
          "data": {
            "text/html": [
              "<div>\n",
              "<style scoped>\n",
              "    .dataframe tbody tr th:only-of-type {\n",
              "        vertical-align: middle;\n",
              "    }\n",
              "\n",
              "    .dataframe tbody tr th {\n",
              "        vertical-align: top;\n",
              "    }\n",
              "\n",
              "    .dataframe thead th {\n",
              "        text-align: right;\n",
              "    }\n",
              "</style>\n",
              "<table border=\"1\" class=\"dataframe\">\n",
              "  <thead>\n",
              "    <tr style=\"text-align: right;\">\n",
              "      <th></th>\n",
              "      <th>ForecastId</th>\n",
              "      <th>State</th>\n",
              "      <th>Country</th>\n",
              "      <th>Date</th>\n",
              "    </tr>\n",
              "  </thead>\n",
              "  <tbody>\n",
              "    <tr>\n",
              "      <th>0</th>\n",
              "      <td>1</td>\n",
              "      <td>NaN</td>\n",
              "      <td>Afghanistan</td>\n",
              "      <td>2020-03-26</td>\n",
              "    </tr>\n",
              "    <tr>\n",
              "      <th>1</th>\n",
              "      <td>2</td>\n",
              "      <td>NaN</td>\n",
              "      <td>Afghanistan</td>\n",
              "      <td>2020-03-27</td>\n",
              "    </tr>\n",
              "    <tr>\n",
              "      <th>2</th>\n",
              "      <td>3</td>\n",
              "      <td>NaN</td>\n",
              "      <td>Afghanistan</td>\n",
              "      <td>2020-03-28</td>\n",
              "    </tr>\n",
              "    <tr>\n",
              "      <th>3</th>\n",
              "      <td>4</td>\n",
              "      <td>NaN</td>\n",
              "      <td>Afghanistan</td>\n",
              "      <td>2020-03-29</td>\n",
              "    </tr>\n",
              "    <tr>\n",
              "      <th>4</th>\n",
              "      <td>5</td>\n",
              "      <td>NaN</td>\n",
              "      <td>Afghanistan</td>\n",
              "      <td>2020-03-30</td>\n",
              "    </tr>\n",
              "  </tbody>\n",
              "</table>\n",
              "</div>"
            ],
            "text/plain": [
              "   ForecastId State      Country       Date\n",
              "0           1   NaN  Afghanistan 2020-03-26\n",
              "1           2   NaN  Afghanistan 2020-03-27\n",
              "2           3   NaN  Afghanistan 2020-03-28\n",
              "3           4   NaN  Afghanistan 2020-03-29\n",
              "4           5   NaN  Afghanistan 2020-03-30"
            ]
          },
          "metadata": {
            "tags": []
          },
          "execution_count": 9
        }
      ]
    },
    {
      "cell_type": "code",
      "metadata": {
        "id": "6lx44-VOZZhC",
        "colab_type": "code",
        "outputId": "7f308707-68c2-4017-ac7e-82c1a368a77f",
        "colab": {
          "base_uri": "https://localhost:8080/",
          "height": 195
        }
      },
      "source": [
        "submission.head()          \n",
        "\n",
        " # Thus, we have to predict both Confirmed Cases as well as Fatalities. So, either multi-output model or  sequentially predict both"
      ],
      "execution_count": 10,
      "outputs": [
        {
          "output_type": "execute_result",
          "data": {
            "text/html": [
              "<div>\n",
              "<style scoped>\n",
              "    .dataframe tbody tr th:only-of-type {\n",
              "        vertical-align: middle;\n",
              "    }\n",
              "\n",
              "    .dataframe tbody tr th {\n",
              "        vertical-align: top;\n",
              "    }\n",
              "\n",
              "    .dataframe thead th {\n",
              "        text-align: right;\n",
              "    }\n",
              "</style>\n",
              "<table border=\"1\" class=\"dataframe\">\n",
              "  <thead>\n",
              "    <tr style=\"text-align: right;\">\n",
              "      <th></th>\n",
              "      <th>ForecastId</th>\n",
              "      <th>ConfirmedCases</th>\n",
              "      <th>Fatalities</th>\n",
              "    </tr>\n",
              "  </thead>\n",
              "  <tbody>\n",
              "    <tr>\n",
              "      <th>0</th>\n",
              "      <td>1</td>\n",
              "      <td>1</td>\n",
              "      <td>1</td>\n",
              "    </tr>\n",
              "    <tr>\n",
              "      <th>1</th>\n",
              "      <td>2</td>\n",
              "      <td>1</td>\n",
              "      <td>1</td>\n",
              "    </tr>\n",
              "    <tr>\n",
              "      <th>2</th>\n",
              "      <td>3</td>\n",
              "      <td>1</td>\n",
              "      <td>1</td>\n",
              "    </tr>\n",
              "    <tr>\n",
              "      <th>3</th>\n",
              "      <td>4</td>\n",
              "      <td>1</td>\n",
              "      <td>1</td>\n",
              "    </tr>\n",
              "    <tr>\n",
              "      <th>4</th>\n",
              "      <td>5</td>\n",
              "      <td>1</td>\n",
              "      <td>1</td>\n",
              "    </tr>\n",
              "  </tbody>\n",
              "</table>\n",
              "</div>"
            ],
            "text/plain": [
              "   ForecastId  ConfirmedCases  Fatalities\n",
              "0           1               1           1\n",
              "1           2               1           1\n",
              "2           3               1           1\n",
              "3           4               1           1\n",
              "4           5               1           1"
            ]
          },
          "metadata": {
            "tags": []
          },
          "execution_count": 10
        }
      ]
    },
    {
      "cell_type": "code",
      "metadata": {
        "id": "0rUKyA5GZhrR",
        "colab_type": "code",
        "outputId": "cb68c875-26ac-4559-d9a1-4c9ad5785abf",
        "colab": {
          "base_uri": "https://localhost:8080/",
          "height": 235
        }
      },
      "source": [
        "train.info()"
      ],
      "execution_count": 11,
      "outputs": [
        {
          "output_type": "stream",
          "text": [
            "<class 'pandas.core.frame.DataFrame'>\n",
            "RangeIndex: 23562 entries, 0 to 23561\n",
            "Data columns (total 6 columns):\n",
            " #   Column          Non-Null Count  Dtype         \n",
            "---  ------          --------------  -----         \n",
            " 0   Id              23562 non-null  int64         \n",
            " 1   State           10010 non-null  object        \n",
            " 2   Country         23562 non-null  object        \n",
            " 3   Date            23562 non-null  datetime64[ns]\n",
            " 4   ConfirmedCases  23562 non-null  float64       \n",
            " 5   Fatalities      23562 non-null  float64       \n",
            "dtypes: datetime64[ns](1), float64(2), int64(1), object(2)\n",
            "memory usage: 1.1+ MB\n"
          ],
          "name": "stdout"
        }
      ]
    },
    {
      "cell_type": "code",
      "metadata": {
        "id": "1LWX-vZTsrke",
        "colab_type": "code",
        "colab": {}
      },
      "source": [
        "# Since, all countries do not have specified provinces, I have replaced such NaN values with country\n",
        "\n",
        "train['State'].fillna(train['Country'],inplace=True)\n",
        "test['State'].fillna(test['Country'],inplace=True)"
      ],
      "execution_count": 0,
      "outputs": []
    },
    {
      "cell_type": "code",
      "metadata": {
        "id": "ErtTFXqDtFmS",
        "colab_type": "code",
        "outputId": "37dfc7a8-5f07-4f65-b115-b428bc59d6d4",
        "colab": {
          "base_uri": "https://localhost:8080/",
          "height": 195
        }
      },
      "source": [
        "train.head()"
      ],
      "execution_count": 13,
      "outputs": [
        {
          "output_type": "execute_result",
          "data": {
            "text/html": [
              "<div>\n",
              "<style scoped>\n",
              "    .dataframe tbody tr th:only-of-type {\n",
              "        vertical-align: middle;\n",
              "    }\n",
              "\n",
              "    .dataframe tbody tr th {\n",
              "        vertical-align: top;\n",
              "    }\n",
              "\n",
              "    .dataframe thead th {\n",
              "        text-align: right;\n",
              "    }\n",
              "</style>\n",
              "<table border=\"1\" class=\"dataframe\">\n",
              "  <thead>\n",
              "    <tr style=\"text-align: right;\">\n",
              "      <th></th>\n",
              "      <th>Id</th>\n",
              "      <th>State</th>\n",
              "      <th>Country</th>\n",
              "      <th>Date</th>\n",
              "      <th>ConfirmedCases</th>\n",
              "      <th>Fatalities</th>\n",
              "    </tr>\n",
              "  </thead>\n",
              "  <tbody>\n",
              "    <tr>\n",
              "      <th>0</th>\n",
              "      <td>1</td>\n",
              "      <td>Afghanistan</td>\n",
              "      <td>Afghanistan</td>\n",
              "      <td>2020-01-22</td>\n",
              "      <td>0.0</td>\n",
              "      <td>0.0</td>\n",
              "    </tr>\n",
              "    <tr>\n",
              "      <th>1</th>\n",
              "      <td>2</td>\n",
              "      <td>Afghanistan</td>\n",
              "      <td>Afghanistan</td>\n",
              "      <td>2020-01-23</td>\n",
              "      <td>0.0</td>\n",
              "      <td>0.0</td>\n",
              "    </tr>\n",
              "    <tr>\n",
              "      <th>2</th>\n",
              "      <td>3</td>\n",
              "      <td>Afghanistan</td>\n",
              "      <td>Afghanistan</td>\n",
              "      <td>2020-01-24</td>\n",
              "      <td>0.0</td>\n",
              "      <td>0.0</td>\n",
              "    </tr>\n",
              "    <tr>\n",
              "      <th>3</th>\n",
              "      <td>4</td>\n",
              "      <td>Afghanistan</td>\n",
              "      <td>Afghanistan</td>\n",
              "      <td>2020-01-25</td>\n",
              "      <td>0.0</td>\n",
              "      <td>0.0</td>\n",
              "    </tr>\n",
              "    <tr>\n",
              "      <th>4</th>\n",
              "      <td>5</td>\n",
              "      <td>Afghanistan</td>\n",
              "      <td>Afghanistan</td>\n",
              "      <td>2020-01-26</td>\n",
              "      <td>0.0</td>\n",
              "      <td>0.0</td>\n",
              "    </tr>\n",
              "  </tbody>\n",
              "</table>\n",
              "</div>"
            ],
            "text/plain": [
              "   Id        State      Country       Date  ConfirmedCases  Fatalities\n",
              "0   1  Afghanistan  Afghanistan 2020-01-22             0.0         0.0\n",
              "1   2  Afghanistan  Afghanistan 2020-01-23             0.0         0.0\n",
              "2   3  Afghanistan  Afghanistan 2020-01-24             0.0         0.0\n",
              "3   4  Afghanistan  Afghanistan 2020-01-25             0.0         0.0\n",
              "4   5  Afghanistan  Afghanistan 2020-01-26             0.0         0.0"
            ]
          },
          "metadata": {
            "tags": []
          },
          "execution_count": 13
        }
      ]
    },
    {
      "cell_type": "markdown",
      "metadata": {
        "id": "NG_fJ_732Jzf",
        "colab_type": "text"
      },
      "source": [
        "After exploring the data and its datatypes, let's perform some EDA on the data in order to get a better understanding of the data and how COVID-19 pandemic has seized up the world."
      ]
    },
    {
      "cell_type": "markdown",
      "metadata": {
        "id": "3c6Ybc4fZiwO",
        "colab_type": "text"
      },
      "source": [
        "## **EDA (Exploratory Data Analysis)**"
      ]
    },
    {
      "cell_type": "markdown",
      "metadata": {
        "id": "QsA7jgnR0U7K",
        "colab_type": "text"
      },
      "source": [
        "### Worldover Analysis"
      ]
    },
    {
      "cell_type": "code",
      "metadata": {
        "id": "BsFuOAoRiDm7",
        "colab_type": "code",
        "outputId": "16b4d9f9-abd2-486b-babb-3865d15f7e07",
        "colab": {
          "base_uri": "https://localhost:8080/",
          "height": 455
        }
      },
      "source": [
        "df_world = train.copy()\n",
        "df_world = df_world.groupby('Date',as_index=False)['ConfirmedCases','Fatalities'].sum()\n",
        "df_world\n",
        "\n",
        "# Worldwide deaths and cases till any given day (cumulative sum). "
      ],
      "execution_count": 14,
      "outputs": [
        {
          "output_type": "stream",
          "text": [
            "/usr/local/lib/python3.6/dist-packages/ipykernel_launcher.py:2: FutureWarning: Indexing with multiple keys (implicitly converted to a tuple of keys) will be deprecated, use a list instead.\n",
            "  \n"
          ],
          "name": "stderr"
        },
        {
          "output_type": "execute_result",
          "data": {
            "text/html": [
              "<div>\n",
              "<style scoped>\n",
              "    .dataframe tbody tr th:only-of-type {\n",
              "        vertical-align: middle;\n",
              "    }\n",
              "\n",
              "    .dataframe tbody tr th {\n",
              "        vertical-align: top;\n",
              "    }\n",
              "\n",
              "    .dataframe thead th {\n",
              "        text-align: right;\n",
              "    }\n",
              "</style>\n",
              "<table border=\"1\" class=\"dataframe\">\n",
              "  <thead>\n",
              "    <tr style=\"text-align: right;\">\n",
              "      <th></th>\n",
              "      <th>Date</th>\n",
              "      <th>ConfirmedCases</th>\n",
              "      <th>Fatalities</th>\n",
              "    </tr>\n",
              "  </thead>\n",
              "  <tbody>\n",
              "    <tr>\n",
              "      <th>0</th>\n",
              "      <td>2020-01-22</td>\n",
              "      <td>554.0</td>\n",
              "      <td>17.0</td>\n",
              "    </tr>\n",
              "    <tr>\n",
              "      <th>1</th>\n",
              "      <td>2020-01-23</td>\n",
              "      <td>653.0</td>\n",
              "      <td>18.0</td>\n",
              "    </tr>\n",
              "    <tr>\n",
              "      <th>2</th>\n",
              "      <td>2020-01-24</td>\n",
              "      <td>939.0</td>\n",
              "      <td>26.0</td>\n",
              "    </tr>\n",
              "    <tr>\n",
              "      <th>3</th>\n",
              "      <td>2020-01-25</td>\n",
              "      <td>1432.0</td>\n",
              "      <td>42.0</td>\n",
              "    </tr>\n",
              "    <tr>\n",
              "      <th>4</th>\n",
              "      <td>2020-01-26</td>\n",
              "      <td>2113.0</td>\n",
              "      <td>56.0</td>\n",
              "    </tr>\n",
              "    <tr>\n",
              "      <th>...</th>\n",
              "      <td>...</td>\n",
              "      <td>...</td>\n",
              "      <td>...</td>\n",
              "    </tr>\n",
              "    <tr>\n",
              "      <th>72</th>\n",
              "      <td>2020-04-03</td>\n",
              "      <td>1095739.0</td>\n",
              "      <td>58782.0</td>\n",
              "    </tr>\n",
              "    <tr>\n",
              "      <th>73</th>\n",
              "      <td>2020-04-04</td>\n",
              "      <td>1197225.0</td>\n",
              "      <td>64601.0</td>\n",
              "    </tr>\n",
              "    <tr>\n",
              "      <th>74</th>\n",
              "      <td>2020-04-05</td>\n",
              "      <td>1271928.0</td>\n",
              "      <td>69369.0</td>\n",
              "    </tr>\n",
              "    <tr>\n",
              "      <th>75</th>\n",
              "      <td>2020-04-06</td>\n",
              "      <td>1344909.0</td>\n",
              "      <td>74560.0</td>\n",
              "    </tr>\n",
              "    <tr>\n",
              "      <th>76</th>\n",
              "      <td>2020-04-07</td>\n",
              "      <td>1425900.0</td>\n",
              "      <td>81858.0</td>\n",
              "    </tr>\n",
              "  </tbody>\n",
              "</table>\n",
              "<p>77 rows × 3 columns</p>\n",
              "</div>"
            ],
            "text/plain": [
              "         Date  ConfirmedCases  Fatalities\n",
              "0  2020-01-22           554.0        17.0\n",
              "1  2020-01-23           653.0        18.0\n",
              "2  2020-01-24           939.0        26.0\n",
              "3  2020-01-25          1432.0        42.0\n",
              "4  2020-01-26          2113.0        56.0\n",
              "..        ...             ...         ...\n",
              "72 2020-04-03       1095739.0     58782.0\n",
              "73 2020-04-04       1197225.0     64601.0\n",
              "74 2020-04-05       1271928.0     69369.0\n",
              "75 2020-04-06       1344909.0     74560.0\n",
              "76 2020-04-07       1425900.0     81858.0\n",
              "\n",
              "[77 rows x 3 columns]"
            ]
          },
          "metadata": {
            "tags": []
          },
          "execution_count": 14
        }
      ]
    },
    {
      "cell_type": "markdown",
      "metadata": {
        "id": "B8S7rBBPTVn1",
        "colab_type": "text"
      },
      "source": [
        "Under the hood, `pandas` plots graphs with the `matplotlib` library. This is usually pretty convenient since it allows you to just `.plot` your graphs\n",
        "\n",
        "* If no x is specified, it takes the 0th column( by which dataset is being parsed) on x axis.\n",
        "* If no y is specified, it plots against all columns"
      ]
    },
    {
      "cell_type": "code",
      "metadata": {
        "id": "xJJy8o63i00e",
        "colab_type": "code",
        "outputId": "54a121c8-d11a-44ef-f3b5-49df63aef9ce",
        "colab": {
          "base_uri": "https://localhost:8080/",
          "height": 439
        }
      },
      "source": [
        "df_world.plot(x = 'Date' ,y = 'ConfirmedCases', figsize = (10,6), color = 'blue', linewidth =2)\n",
        "plt.title(\"Total confirmed cases of Covid-19\")\n",
        "plt.xticks(rotation=0)\n",
        "plt.show()\n",
        "\n"
      ],
      "execution_count": 15,
      "outputs": [
        {
          "output_type": "display_data",
          "data": {
            "image/png": "[encoded data removed]",
            "text/plain": [
              "<Figure size 720x432 with 1 Axes>"
            ]
          },
          "metadata": {
            "tags": [],
            "needs_background": "light"
          }
        }
      ]
    },
    {
      "cell_type": "code",
      "metadata": {
        "id": "0K9U5RgNjmV8",
        "colab_type": "code",
        "outputId": "db3bbfe5-6f88-4318-d535-9658db73af5c",
        "colab": {
          "base_uri": "https://localhost:8080/",
          "height": 493
        }
      },
      "source": [
        "df_world.plot(x = 'Date' ,y = 'Fatalities', figsize = (12,7),  color = 'red', linewidth =2)\n",
        "plt.title(\"Total fatalities due to Covid-19\")\n",
        "plt.xticks(rotation=0)\n",
        "plt.show()"
      ],
      "execution_count": 16,
      "outputs": [
        {
          "output_type": "display_data",
          "data": {
            "image/png": "[encoded data removed]",
            "text/plain": [
              "<Figure size 864x504 with 1 Axes>"
            ]
          },
          "metadata": {
            "tags": [],
            "needs_background": "light"
          }
        }
      ]
    },
    {
      "cell_type": "code",
      "metadata": {
        "id": "6xTHQv4-lfV4",
        "colab_type": "code",
        "outputId": "5cb85f6d-35b4-4dd9-e2b1-f6a982d05f4c",
        "colab": {
          "base_uri": "https://localhost:8080/",
          "height": 402
        }
      },
      "source": [
        "df_world['New Cases'] = df_world['ConfirmedCases']\n",
        "df_world['New Deaths'] = df_world['Fatalities']\n",
        "for i in range(1,77):\n",
        "      df_world.iloc[i:i+1, 3] = float(df_world.iloc[i:i+1, 1])- float(df_world.iloc[i-1:i, 1])\n",
        "      df_world.iloc[i:i+1, 4] = float(df_world.iloc[i:i+1, 2])- float(df_world.iloc[i-1:i, 2])\n",
        "\n",
        "df_world\n",
        "\n",
        "# Now, we have daily new cases and new deaths in the world"
      ],
      "execution_count": 17,
      "outputs": [
        {
          "output_type": "execute_result",
          "data": {
            "text/html": [
              "<div>\n",
              "<style scoped>\n",
              "    .dataframe tbody tr th:only-of-type {\n",
              "        vertical-align: middle;\n",
              "    }\n",
              "\n",
              "    .dataframe tbody tr th {\n",
              "        vertical-align: top;\n",
              "    }\n",
              "\n",
              "    .dataframe thead th {\n",
              "        text-align: right;\n",
              "    }\n",
              "</style>\n",
              "<table border=\"1\" class=\"dataframe\">\n",
              "  <thead>\n",
              "    <tr style=\"text-align: right;\">\n",
              "      <th></th>\n",
              "      <th>Date</th>\n",
              "      <th>ConfirmedCases</th>\n",
              "      <th>Fatalities</th>\n",
              "      <th>New Cases</th>\n",
              "      <th>New Deaths</th>\n",
              "    </tr>\n",
              "  </thead>\n",
              "  <tbody>\n",
              "    <tr>\n",
              "      <th>0</th>\n",
              "      <td>2020-01-22</td>\n",
              "      <td>554.0</td>\n",
              "      <td>17.0</td>\n",
              "      <td>554.0</td>\n",
              "      <td>17.0</td>\n",
              "    </tr>\n",
              "    <tr>\n",
              "      <th>1</th>\n",
              "      <td>2020-01-23</td>\n",
              "      <td>653.0</td>\n",
              "      <td>18.0</td>\n",
              "      <td>99.0</td>\n",
              "      <td>1.0</td>\n",
              "    </tr>\n",
              "    <tr>\n",
              "      <th>2</th>\n",
              "      <td>2020-01-24</td>\n",
              "      <td>939.0</td>\n",
              "      <td>26.0</td>\n",
              "      <td>286.0</td>\n",
              "      <td>8.0</td>\n",
              "    </tr>\n",
              "    <tr>\n",
              "      <th>3</th>\n",
              "      <td>2020-01-25</td>\n",
              "      <td>1432.0</td>\n",
              "      <td>42.0</td>\n",
              "      <td>493.0</td>\n",
              "      <td>16.0</td>\n",
              "    </tr>\n",
              "    <tr>\n",
              "      <th>4</th>\n",
              "      <td>2020-01-26</td>\n",
              "      <td>2113.0</td>\n",
              "      <td>56.0</td>\n",
              "      <td>681.0</td>\n",
              "      <td>14.0</td>\n",
              "    </tr>\n",
              "    <tr>\n",
              "      <th>...</th>\n",
              "      <td>...</td>\n",
              "      <td>...</td>\n",
              "      <td>...</td>\n",
              "      <td>...</td>\n",
              "      <td>...</td>\n",
              "    </tr>\n",
              "    <tr>\n",
              "      <th>72</th>\n",
              "      <td>2020-04-03</td>\n",
              "      <td>1095739.0</td>\n",
              "      <td>58782.0</td>\n",
              "      <td>82758.0</td>\n",
              "      <td>5804.0</td>\n",
              "    </tr>\n",
              "    <tr>\n",
              "      <th>73</th>\n",
              "      <td>2020-04-04</td>\n",
              "      <td>1197225.0</td>\n",
              "      <td>64601.0</td>\n",
              "      <td>101486.0</td>\n",
              "      <td>5819.0</td>\n",
              "    </tr>\n",
              "    <tr>\n",
              "      <th>74</th>\n",
              "      <td>2020-04-05</td>\n",
              "      <td>1271928.0</td>\n",
              "      <td>69369.0</td>\n",
              "      <td>74703.0</td>\n",
              "      <td>4768.0</td>\n",
              "    </tr>\n",
              "    <tr>\n",
              "      <th>75</th>\n",
              "      <td>2020-04-06</td>\n",
              "      <td>1344909.0</td>\n",
              "      <td>74560.0</td>\n",
              "      <td>72981.0</td>\n",
              "      <td>5191.0</td>\n",
              "    </tr>\n",
              "    <tr>\n",
              "      <th>76</th>\n",
              "      <td>2020-04-07</td>\n",
              "      <td>1425900.0</td>\n",
              "      <td>81858.0</td>\n",
              "      <td>80991.0</td>\n",
              "      <td>7298.0</td>\n",
              "    </tr>\n",
              "  </tbody>\n",
              "</table>\n",
              "<p>77 rows × 5 columns</p>\n",
              "</div>"
            ],
            "text/plain": [
              "         Date  ConfirmedCases  Fatalities  New Cases  New Deaths\n",
              "0  2020-01-22           554.0        17.0      554.0        17.0\n",
              "1  2020-01-23           653.0        18.0       99.0         1.0\n",
              "2  2020-01-24           939.0        26.0      286.0         8.0\n",
              "3  2020-01-25          1432.0        42.0      493.0        16.0\n",
              "4  2020-01-26          2113.0        56.0      681.0        14.0\n",
              "..        ...             ...         ...        ...         ...\n",
              "72 2020-04-03       1095739.0     58782.0    82758.0      5804.0\n",
              "73 2020-04-04       1197225.0     64601.0   101486.0      5819.0\n",
              "74 2020-04-05       1271928.0     69369.0    74703.0      4768.0\n",
              "75 2020-04-06       1344909.0     74560.0    72981.0      5191.0\n",
              "76 2020-04-07       1425900.0     81858.0    80991.0      7298.0\n",
              "\n",
              "[77 rows x 5 columns]"
            ]
          },
          "metadata": {
            "tags": []
          },
          "execution_count": 17
        }
      ]
    },
    {
      "cell_type": "code",
      "metadata": {
        "id": "H4AXKudztZKY",
        "colab_type": "code",
        "outputId": "c2e51c1e-3eff-4059-a147-9eb5f07be25f",
        "colab": {
          "base_uri": "https://localhost:8080/",
          "height": 829
        }
      },
      "source": [
        "df_world.plot(x = 'Date', y = 'New Cases', figsize = (10,6), marker = \"*\", color = 'blue', linewidth =1)\n",
        "df_world.plot(x = 'Date', y = 'New Deaths', figsize = (10,6), marker = \"*\", color = 'red', linewidth =1)\n",
        "plt.show()"
      ],
      "execution_count": 18,
      "outputs": [
        {
          "output_type": "display_data",
          "data": {
            "image/png": "[encoded data removed]",
            "text/plain": [
              "<Figure size 720x432 with 1 Axes>"
            ]
          },
          "metadata": {
            "tags": [],
            "needs_background": "light"
          }
        },
        {
          "output_type": "display_data",
          "data": {
            "image/png": "[encoded data removed]",
            "text/plain": [
              "<Figure size 720x432 with 1 Axes>"
            ]
          },
          "metadata": {
            "tags": [],
            "needs_background": "light"
          }
        }
      ]
    },
    {
      "cell_type": "markdown",
      "metadata": {
        "id": "InpcYwdhzaAD",
        "colab_type": "text"
      },
      "source": [
        "We come to realise that deaths in a day peaked in mid April, when both Europe (Italy, UK, Spain, Germany) were suffering badly along with US. "
      ]
    },
    {
      "cell_type": "markdown",
      "metadata": {
        "id": "UIuLRR5WCG6L",
        "colab_type": "text"
      },
      "source": [
        "### Country - wise analysis"
      ]
    },
    {
      "cell_type": "code",
      "metadata": {
        "id": "bnw6IO7fbWa7",
        "colab_type": "code",
        "outputId": "d8c6e6bf-a667-4ce6-a981-e16dc1a535b1",
        "colab": {
          "base_uri": "https://localhost:8080/",
          "height": 373
        }
      },
      "source": [
        "df = train.groupby(['Country']).mean().drop(['Id'],axis=1)    \n",
        "df.tail(10)        \n",
        "\n",
        "# We now have the AVG confirmed cases and fatalities for a country in a day. \n",
        "# Obviously, dataset is pretty imbalanced"
      ],
      "execution_count": 19,
      "outputs": [
        {
          "output_type": "execute_result",
          "data": {
            "text/html": [
              "<div>\n",
              "<style scoped>\n",
              "    .dataframe tbody tr th:only-of-type {\n",
              "        vertical-align: middle;\n",
              "    }\n",
              "\n",
              "    .dataframe tbody tr th {\n",
              "        vertical-align: top;\n",
              "    }\n",
              "\n",
              "    .dataframe thead th {\n",
              "        text-align: right;\n",
              "    }\n",
              "</style>\n",
              "<table border=\"1\" class=\"dataframe\">\n",
              "  <thead>\n",
              "    <tr style=\"text-align: right;\">\n",
              "      <th></th>\n",
              "      <th>ConfirmedCases</th>\n",
              "      <th>Fatalities</th>\n",
              "    </tr>\n",
              "    <tr>\n",
              "      <th>Country</th>\n",
              "      <th></th>\n",
              "      <th></th>\n",
              "    </tr>\n",
              "  </thead>\n",
              "  <tbody>\n",
              "    <tr>\n",
              "      <th>Ukraine</th>\n",
              "      <td>144.688312</td>\n",
              "      <td>4.025974</td>\n",
              "    </tr>\n",
              "    <tr>\n",
              "      <th>United Arab Emirates</th>\n",
              "      <td>216.051948</td>\n",
              "      <td>1.298701</td>\n",
              "    </tr>\n",
              "    <tr>\n",
              "      <th>United Kingdom</th>\n",
              "      <td>607.275325</td>\n",
              "      <td>50.435065</td>\n",
              "    </tr>\n",
              "    <tr>\n",
              "      <th>Uruguay</th>\n",
              "      <td>70.350649</td>\n",
              "      <td>0.467532</td>\n",
              "    </tr>\n",
              "    <tr>\n",
              "      <th>Uzbekistan</th>\n",
              "      <td>42.337662</td>\n",
              "      <td>0.298701</td>\n",
              "    </tr>\n",
              "    <tr>\n",
              "      <th>Venezuela</th>\n",
              "      <td>30.935065</td>\n",
              "      <td>0.701299</td>\n",
              "    </tr>\n",
              "    <tr>\n",
              "      <th>Vietnam</th>\n",
              "      <td>59.649351</td>\n",
              "      <td>0.000000</td>\n",
              "    </tr>\n",
              "    <tr>\n",
              "      <th>West Bank and Gaza</th>\n",
              "      <td>36.532468</td>\n",
              "      <td>0.168831</td>\n",
              "    </tr>\n",
              "    <tr>\n",
              "      <th>Zambia</th>\n",
              "      <td>6.025974</td>\n",
              "      <td>0.077922</td>\n",
              "    </tr>\n",
              "    <tr>\n",
              "      <th>Zimbabwe</th>\n",
              "      <td>1.532468</td>\n",
              "      <td>0.220779</td>\n",
              "    </tr>\n",
              "  </tbody>\n",
              "</table>\n",
              "</div>"
            ],
            "text/plain": [
              "                      ConfirmedCases  Fatalities\n",
              "Country                                         \n",
              "Ukraine                   144.688312    4.025974\n",
              "United Arab Emirates      216.051948    1.298701\n",
              "United Kingdom            607.275325   50.435065\n",
              "Uruguay                    70.350649    0.467532\n",
              "Uzbekistan                 42.337662    0.298701\n",
              "Venezuela                  30.935065    0.701299\n",
              "Vietnam                    59.649351    0.000000\n",
              "West Bank and Gaza         36.532468    0.168831\n",
              "Zambia                      6.025974    0.077922\n",
              "Zimbabwe                    1.532468    0.220779"
            ]
          },
          "metadata": {
            "tags": []
          },
          "execution_count": 19
        }
      ]
    },
    {
      "cell_type": "code",
      "metadata": {
        "id": "zju5ZmJCWrZW",
        "colab_type": "code",
        "outputId": "9afa1045-8491-4816-9a15-697578dfb033",
        "colab": {
          "base_uri": "https://localhost:8080/",
          "height": 698
        }
      },
      "source": [
        "df.sort_values(by=['ConfirmedCases'], inplace=True,ascending=False)\n",
        "df = df[:15]\n",
        "df['ConfirmedCases'].plot(kind='bar')\n",
        "plt.title('Mean confirmed cases per day for top 15 countries with most cases')\n",
        "plt.show()\n",
        "\n",
        "df = train.groupby(['Country']).mean().drop(['Id'],axis=1) \n",
        "df.sort_values(by=['Fatalities'], inplace=True,ascending=False)\n",
        "df = df[:15]\n",
        "df['Fatalities'].plot(kind='bar')\n",
        "plt.title('Mean fatalities per day for top 15 countries with most fatalities')\n",
        "plt.show()\n",
        "\n",
        "# These graphs below show the non-uniformity in the available data"
      ],
      "execution_count": 20,
      "outputs": [
        {
          "output_type": "display_data",
          "data": {
            "image/png": "[encoded data removed]",
            "text/plain": [
              "<Figure size 432x288 with 1 Axes>"
            ]
          },
          "metadata": {
            "tags": [],
            "needs_background": "light"
          }
        },
        {
          "output_type": "display_data",
          "data": {
            "image/png": "[encoded data removed]",
            "text/plain": [
              "<Figure size 432x288 with 1 Axes>"
            ]
          },
          "metadata": {
            "tags": [],
            "needs_background": "light"
          }
        }
      ]
    },
    {
      "cell_type": "markdown",
      "metadata": {
        "id": "A1MTxF5HNfvA",
        "colab_type": "text"
      },
      "source": [
        "##### From given data we can infer that we have data  for each country  for 77 days"
      ]
    },
    {
      "cell_type": "code",
      "metadata": {
        "id": "ZalHNN6ehlwj",
        "colab_type": "code",
        "outputId": "128c6eda-ad4f-4612-8ff2-7d21bec83202",
        "colab": {
          "base_uri": "https://localhost:8080/",
          "height": 432
        }
      },
      "source": [
        "df2 = train.groupby(['Country']).sum().drop(['Id'],axis=1)  \n",
        "df2.tail(12)\n",
        "\n",
        "# We now have the TOTAL confirmed cases and fatalities for a country."
      ],
      "execution_count": 21,
      "outputs": [
        {
          "output_type": "execute_result",
          "data": {
            "text/html": [
              "<div>\n",
              "<style scoped>\n",
              "    .dataframe tbody tr th:only-of-type {\n",
              "        vertical-align: middle;\n",
              "    }\n",
              "\n",
              "    .dataframe tbody tr th {\n",
              "        vertical-align: top;\n",
              "    }\n",
              "\n",
              "    .dataframe thead th {\n",
              "        text-align: right;\n",
              "    }\n",
              "</style>\n",
              "<table border=\"1\" class=\"dataframe\">\n",
              "  <thead>\n",
              "    <tr style=\"text-align: right;\">\n",
              "      <th></th>\n",
              "      <th>ConfirmedCases</th>\n",
              "      <th>Fatalities</th>\n",
              "    </tr>\n",
              "    <tr>\n",
              "      <th>Country</th>\n",
              "      <th></th>\n",
              "      <th></th>\n",
              "    </tr>\n",
              "  </thead>\n",
              "  <tbody>\n",
              "    <tr>\n",
              "      <th>US</th>\n",
              "      <td>3222547.0</td>\n",
              "      <td>77343.0</td>\n",
              "    </tr>\n",
              "    <tr>\n",
              "      <th>Uganda</th>\n",
              "      <td>552.0</td>\n",
              "      <td>0.0</td>\n",
              "    </tr>\n",
              "    <tr>\n",
              "      <th>Ukraine</th>\n",
              "      <td>11141.0</td>\n",
              "      <td>310.0</td>\n",
              "    </tr>\n",
              "    <tr>\n",
              "      <th>United Arab Emirates</th>\n",
              "      <td>16636.0</td>\n",
              "      <td>100.0</td>\n",
              "    </tr>\n",
              "    <tr>\n",
              "      <th>United Kingdom</th>\n",
              "      <td>467602.0</td>\n",
              "      <td>38835.0</td>\n",
              "    </tr>\n",
              "    <tr>\n",
              "      <th>Uruguay</th>\n",
              "      <td>5417.0</td>\n",
              "      <td>36.0</td>\n",
              "    </tr>\n",
              "    <tr>\n",
              "      <th>Uzbekistan</th>\n",
              "      <td>3260.0</td>\n",
              "      <td>23.0</td>\n",
              "    </tr>\n",
              "    <tr>\n",
              "      <th>Venezuela</th>\n",
              "      <td>2382.0</td>\n",
              "      <td>54.0</td>\n",
              "    </tr>\n",
              "    <tr>\n",
              "      <th>Vietnam</th>\n",
              "      <td>4593.0</td>\n",
              "      <td>0.0</td>\n",
              "    </tr>\n",
              "    <tr>\n",
              "      <th>West Bank and Gaza</th>\n",
              "      <td>2813.0</td>\n",
              "      <td>13.0</td>\n",
              "    </tr>\n",
              "    <tr>\n",
              "      <th>Zambia</th>\n",
              "      <td>464.0</td>\n",
              "      <td>6.0</td>\n",
              "    </tr>\n",
              "    <tr>\n",
              "      <th>Zimbabwe</th>\n",
              "      <td>118.0</td>\n",
              "      <td>17.0</td>\n",
              "    </tr>\n",
              "  </tbody>\n",
              "</table>\n",
              "</div>"
            ],
            "text/plain": [
              "                      ConfirmedCases  Fatalities\n",
              "Country                                         \n",
              "US                         3222547.0     77343.0\n",
              "Uganda                         552.0         0.0\n",
              "Ukraine                      11141.0       310.0\n",
              "United Arab Emirates         16636.0       100.0\n",
              "United Kingdom              467602.0     38835.0\n",
              "Uruguay                       5417.0        36.0\n",
              "Uzbekistan                    3260.0        23.0\n",
              "Venezuela                     2382.0        54.0\n",
              "Vietnam                       4593.0         0.0\n",
              "West Bank and Gaza            2813.0        13.0\n",
              "Zambia                         464.0         6.0\n",
              "Zimbabwe                       118.0        17.0"
            ]
          },
          "metadata": {
            "tags": []
          },
          "execution_count": 21
        }
      ]
    },
    {
      "cell_type": "code",
      "metadata": {
        "id": "VWBuEsTq4Rhj",
        "colab_type": "code",
        "outputId": "250a8752-12b2-47b1-bc50-628e4f0c4ba8",
        "colab": {
          "base_uri": "https://localhost:8080/",
          "height": 235
        }
      },
      "source": [
        "print(\"No. of countries in data: \", len(df2)) \n",
        "print('----------------------')\n",
        "\n",
        "print(df2.mean())      # The AVG number of total confirmed cases and fatalities in a country\n",
        "print('-----------------------')\n",
        "\n",
        "print(df2.max())      # The MAX number of confirmed cases and fatalities in any country\n",
        "print('-----------------------')\n",
        "\n",
        "print(df2.sum())      # The TOTAL number of confirmed cases and fatalities "
      ],
      "execution_count": 22,
      "outputs": [
        {
          "output_type": "stream",
          "text": [
            "No. of countries in data:  180\n",
            "----------------------\n",
            "ConfirmedCases    104893.216667\n",
            "Fatalities          4904.511111\n",
            "dtype: float64\n",
            "-----------------------\n",
            "ConfirmedCases    4764627.0\n",
            "Fatalities         223179.0\n",
            "dtype: float64\n",
            "-----------------------\n",
            "ConfirmedCases    18880779.0\n",
            "Fatalities          882812.0\n",
            "dtype: float64\n"
          ],
          "name": "stdout"
        }
      ]
    },
    {
      "cell_type": "code",
      "metadata": {
        "id": "6wf-llbofWVz",
        "colab_type": "code",
        "outputId": "285d8237-84bf-491a-e675-840809d4a400",
        "colab": {
          "base_uri": "https://localhost:8080/",
          "height": 225
        }
      },
      "source": [
        "df2.sort_values(by=['Fatalities'], inplace=True,ascending=False)\n",
        "df2[:5]\n",
        "\n",
        "# Top 5 countries with most deaths recorded"
      ],
      "execution_count": 23,
      "outputs": [
        {
          "output_type": "execute_result",
          "data": {
            "text/html": [
              "<div>\n",
              "<style scoped>\n",
              "    .dataframe tbody tr th:only-of-type {\n",
              "        vertical-align: middle;\n",
              "    }\n",
              "\n",
              "    .dataframe tbody tr th {\n",
              "        vertical-align: top;\n",
              "    }\n",
              "\n",
              "    .dataframe thead th {\n",
              "        text-align: right;\n",
              "    }\n",
              "</style>\n",
              "<table border=\"1\" class=\"dataframe\">\n",
              "  <thead>\n",
              "    <tr style=\"text-align: right;\">\n",
              "      <th></th>\n",
              "      <th>ConfirmedCases</th>\n",
              "      <th>Fatalities</th>\n",
              "    </tr>\n",
              "    <tr>\n",
              "      <th>Country</th>\n",
              "      <th></th>\n",
              "      <th></th>\n",
              "    </tr>\n",
              "  </thead>\n",
              "  <tbody>\n",
              "    <tr>\n",
              "      <th>Italy</th>\n",
              "      <td>2078445.0</td>\n",
              "      <td>223179.0</td>\n",
              "    </tr>\n",
              "    <tr>\n",
              "      <th>China</th>\n",
              "      <td>4764627.0</td>\n",
              "      <td>169091.0</td>\n",
              "    </tr>\n",
              "    <tr>\n",
              "      <th>Spain</th>\n",
              "      <td>1614510.0</td>\n",
              "      <td>137486.0</td>\n",
              "    </tr>\n",
              "    <tr>\n",
              "      <th>US</th>\n",
              "      <td>3222547.0</td>\n",
              "      <td>77343.0</td>\n",
              "    </tr>\n",
              "    <tr>\n",
              "      <th>France</th>\n",
              "      <td>987338.0</td>\n",
              "      <td>72246.0</td>\n",
              "    </tr>\n",
              "  </tbody>\n",
              "</table>\n",
              "</div>"
            ],
            "text/plain": [
              "         ConfirmedCases  Fatalities\n",
              "Country                            \n",
              "Italy         2078445.0    223179.0\n",
              "China         4764627.0    169091.0\n",
              "Spain         1614510.0    137486.0\n",
              "US            3222547.0     77343.0\n",
              "France         987338.0     72246.0"
            ]
          },
          "metadata": {
            "tags": []
          },
          "execution_count": 23
        }
      ]
    },
    {
      "cell_type": "code",
      "metadata": {
        "id": "YYJ0T7gNIMqO",
        "colab_type": "code",
        "outputId": "a98ea78f-4a01-4f82-e056-aca64dadff01",
        "colab": {
          "base_uri": "https://localhost:8080/",
          "height": 846
        }
      },
      "source": [
        "df2.sort_values(by=['ConfirmedCases'], inplace=True,ascending=False)\n",
        "df2[:26]\n",
        "\n",
        "# Countries with confirmed cases >50000"
      ],
      "execution_count": 24,
      "outputs": [
        {
          "output_type": "execute_result",
          "data": {
            "text/html": [
              "<div>\n",
              "<style scoped>\n",
              "    .dataframe tbody tr th:only-of-type {\n",
              "        vertical-align: middle;\n",
              "    }\n",
              "\n",
              "    .dataframe tbody tr th {\n",
              "        vertical-align: top;\n",
              "    }\n",
              "\n",
              "    .dataframe thead th {\n",
              "        text-align: right;\n",
              "    }\n",
              "</style>\n",
              "<table border=\"1\" class=\"dataframe\">\n",
              "  <thead>\n",
              "    <tr style=\"text-align: right;\">\n",
              "      <th></th>\n",
              "      <th>ConfirmedCases</th>\n",
              "      <th>Fatalities</th>\n",
              "    </tr>\n",
              "    <tr>\n",
              "      <th>Country</th>\n",
              "      <th></th>\n",
              "      <th></th>\n",
              "    </tr>\n",
              "  </thead>\n",
              "  <tbody>\n",
              "    <tr>\n",
              "      <th>China</th>\n",
              "      <td>4764627.0</td>\n",
              "      <td>169091.0</td>\n",
              "    </tr>\n",
              "    <tr>\n",
              "      <th>US</th>\n",
              "      <td>3222547.0</td>\n",
              "      <td>77343.0</td>\n",
              "    </tr>\n",
              "    <tr>\n",
              "      <th>Italy</th>\n",
              "      <td>2078445.0</td>\n",
              "      <td>223179.0</td>\n",
              "    </tr>\n",
              "    <tr>\n",
              "      <th>Spain</th>\n",
              "      <td>1614510.0</td>\n",
              "      <td>137486.0</td>\n",
              "    </tr>\n",
              "    <tr>\n",
              "      <th>Germany</th>\n",
              "      <td>1249835.0</td>\n",
              "      <td>14032.0</td>\n",
              "    </tr>\n",
              "    <tr>\n",
              "      <th>France</th>\n",
              "      <td>987338.0</td>\n",
              "      <td>72246.0</td>\n",
              "    </tr>\n",
              "    <tr>\n",
              "      <th>Iran</th>\n",
              "      <td>915866.0</td>\n",
              "      <td>58527.0</td>\n",
              "    </tr>\n",
              "    <tr>\n",
              "      <th>United Kingdom</th>\n",
              "      <td>467602.0</td>\n",
              "      <td>38835.0</td>\n",
              "    </tr>\n",
              "    <tr>\n",
              "      <th>Korea, South</th>\n",
              "      <td>328015.0</td>\n",
              "      <td>3935.0</td>\n",
              "    </tr>\n",
              "    <tr>\n",
              "      <th>Switzerland</th>\n",
              "      <td>296853.0</td>\n",
              "      <td>7148.0</td>\n",
              "    </tr>\n",
              "    <tr>\n",
              "      <th>Turkey</th>\n",
              "      <td>228840.0</td>\n",
              "      <td>4483.0</td>\n",
              "    </tr>\n",
              "    <tr>\n",
              "      <th>Netherlands</th>\n",
              "      <td>219626.0</td>\n",
              "      <td>17252.0</td>\n",
              "    </tr>\n",
              "    <tr>\n",
              "      <th>Belgium</th>\n",
              "      <td>216247.0</td>\n",
              "      <td>12524.0</td>\n",
              "    </tr>\n",
              "    <tr>\n",
              "      <th>Austria</th>\n",
              "      <td>166953.0</td>\n",
              "      <td>1951.0</td>\n",
              "    </tr>\n",
              "    <tr>\n",
              "      <th>Canada</th>\n",
              "      <td>148436.0</td>\n",
              "      <td>2165.0</td>\n",
              "    </tr>\n",
              "    <tr>\n",
              "      <th>Portugal</th>\n",
              "      <td>120064.0</td>\n",
              "      <td>2651.0</td>\n",
              "    </tr>\n",
              "    <tr>\n",
              "      <th>Brazil</th>\n",
              "      <td>108753.0</td>\n",
              "      <td>4080.0</td>\n",
              "    </tr>\n",
              "    <tr>\n",
              "      <th>Norway</th>\n",
              "      <td>90039.0</td>\n",
              "      <td>685.0</td>\n",
              "    </tr>\n",
              "    <tr>\n",
              "      <th>Sweden</th>\n",
              "      <td>88739.0</td>\n",
              "      <td>3692.0</td>\n",
              "    </tr>\n",
              "    <tr>\n",
              "      <th>Israel</th>\n",
              "      <td>87496.0</td>\n",
              "      <td>411.0</td>\n",
              "    </tr>\n",
              "    <tr>\n",
              "      <th>Australia</th>\n",
              "      <td>74385.0</td>\n",
              "      <td>412.0</td>\n",
              "    </tr>\n",
              "    <tr>\n",
              "      <th>Denmark</th>\n",
              "      <td>62507.0</td>\n",
              "      <td>1638.0</td>\n",
              "    </tr>\n",
              "    <tr>\n",
              "      <th>Czechia</th>\n",
              "      <td>56339.0</td>\n",
              "      <td>538.0</td>\n",
              "    </tr>\n",
              "    <tr>\n",
              "      <th>Ireland</th>\n",
              "      <td>55549.0</td>\n",
              "      <td>1278.0</td>\n",
              "    </tr>\n",
              "    <tr>\n",
              "      <th>Malaysia</th>\n",
              "      <td>52461.0</td>\n",
              "      <td>655.0</td>\n",
              "    </tr>\n",
              "    <tr>\n",
              "      <th>Japan</th>\n",
              "      <td>51560.0</td>\n",
              "      <td>1368.0</td>\n",
              "    </tr>\n",
              "  </tbody>\n",
              "</table>\n",
              "</div>"
            ],
            "text/plain": [
              "                ConfirmedCases  Fatalities\n",
              "Country                                   \n",
              "China                4764627.0    169091.0\n",
              "US                   3222547.0     77343.0\n",
              "Italy                2078445.0    223179.0\n",
              "Spain                1614510.0    137486.0\n",
              "Germany              1249835.0     14032.0\n",
              "France                987338.0     72246.0\n",
              "Iran                  915866.0     58527.0\n",
              "United Kingdom        467602.0     38835.0\n",
              "Korea, South          328015.0      3935.0\n",
              "Switzerland           296853.0      7148.0\n",
              "Turkey                228840.0      4483.0\n",
              "Netherlands           219626.0     17252.0\n",
              "Belgium               216247.0     12524.0\n",
              "Austria               166953.0      1951.0\n",
              "Canada                148436.0      2165.0\n",
              "Portugal              120064.0      2651.0\n",
              "Brazil                108753.0      4080.0\n",
              "Norway                 90039.0       685.0\n",
              "Sweden                 88739.0      3692.0\n",
              "Israel                 87496.0       411.0\n",
              "Australia              74385.0       412.0\n",
              "Denmark                62507.0      1638.0\n",
              "Czechia                56339.0       538.0\n",
              "Ireland                55549.0      1278.0\n",
              "Malaysia               52461.0       655.0\n",
              "Japan                  51560.0      1368.0"
            ]
          },
          "metadata": {
            "tags": []
          },
          "execution_count": 24
        }
      ]
    },
    {
      "cell_type": "code",
      "metadata": {
        "id": "xL2t8X3Z3x2n",
        "colab_type": "code",
        "outputId": "937b164a-db57-45e2-f6c9-5168570d053e",
        "colab": {
          "base_uri": "https://localhost:8080/",
          "height": 34
        }
      },
      "source": [
        "df2 = train.groupby(['Country']).sum().drop(['Id'],axis=1)  \n",
        "# So that we get names of countries in alphabetical order\n",
        "\n",
        "count1=0\n",
        "count2=0\n",
        "v = []    # Index of Countries with more than 100000 confirmed cases\n",
        "w = []    # Index of Countries with more than 5000 fatalities\n",
        "x = []  \n",
        "y = []\n",
        "for i in range(len(df2)):\n",
        "    if int(df2[i:i+1]['ConfirmedCases']) >=100000:\n",
        "      count1+=1\n",
        "      v.append(i)\n",
        "      x.append(int(df2[i:i+1]['ConfirmedCases']))  # Actually hold count of no of cases in that country\n",
        "    \n",
        "    if int(df2[i:i+1]['Fatalities']) >=5000:\n",
        "      count2+=1\n",
        "      w.append(i)\n",
        "      y.append(int(df2[i:i+1]['Fatalities']))      # Actually hold count of no of deaths in that country\n",
        "\n",
        "print(count1,'countries have recorded more than 100,000 cases and',count2,'countries have recorded more than 5k deaths')\n",
        "\n",
        "a = np.unique(train['Country'])           \n",
        "# We get access to any country in dictionary format (by just their index)\n",
        "\n",
        "cc = []\n",
        "f = []\n",
        "for i in v:\n",
        "    cc.append(a[i])\n",
        "\n",
        "for i in w:\n",
        "    f.append(a[i])"
      ],
      "execution_count": 25,
      "outputs": [
        {
          "output_type": "stream",
          "text": [
            "17 countries have recorded more than 100,000 cases and 11 countries have recorded more than 5k deaths\n"
          ],
          "name": "stdout"
        }
      ]
    },
    {
      "cell_type": "code",
      "metadata": {
        "id": "pclX5T2tf-2f",
        "colab_type": "code",
        "outputId": "d8d2c95b-c4b9-4a0c-bec9-5f37fb7d0c6f",
        "colab": {
          "base_uri": "https://localhost:8080/",
          "height": 821
        }
      },
      "source": [
        "inputs = x\n",
        "labels = cc\n",
        "plt.pie(inputs,labels = labels,radius=4.3,autopct='%.1f%%')\n",
        "plt.title('Countries with more than 100000 confirmed cases', bbox={'facecolor':'0.8', 'pad':5})\n",
        "plt.show()"
      ],
      "execution_count": 26,
      "outputs": [
        {
          "output_type": "display_data",
          "data": {
            "image/png": "[encoded data removed]",
            "text/plain": [
              "<Figure size 432x288 with 1 Axes>"
            ]
          },
          "metadata": {
            "tags": []
          }
        }
      ]
    },
    {
      "cell_type": "code",
      "metadata": {
        "id": "3ao8ul4ZkNQP",
        "colab_type": "code",
        "outputId": "56805b53-7e02-47d8-aa83-dba22a4b5845",
        "colab": {
          "base_uri": "https://localhost:8080/",
          "height": 860
        }
      },
      "source": [
        "inputs = y\n",
        "labels = f\n",
        "plt.pie(inputs,labels = labels,radius=4.3,autopct='%.1f%%')\n",
        "plt.title('Countries with more than 5000 deaths', bbox={'facecolor':'0.8', 'pad':5})\n",
        "plt.show()"
      ],
      "execution_count": 27,
      "outputs": [
        {
          "output_type": "display_data",
          "data": {
            "image/png": "[encoded data removed]",
            "text/plain": [
              "<Figure size 432x288 with 1 Axes>"
            ]
          },
          "metadata": {
            "tags": []
          }
        }
      ]
    },
    {
      "cell_type": "markdown",
      "metadata": {
        "id": "sXtEYo5rSf3n",
        "colab_type": "text"
      },
      "source": [
        "Let's try to analyse which *continents* have been affected the most by the virus in terms of no of Covid-19 cases - \n"
      ]
    },
    {
      "cell_type": "code",
      "metadata": {
        "id": "CiD7oXGQ2LIb",
        "colab_type": "code",
        "colab": {}
      },
      "source": [
        "df2.sort_values(by=['ConfirmedCases'], inplace=True,ascending=False)\n",
        "\n",
        "Oceania = []\n",
        "Asia = []\n",
        "North_America = []\n",
        "South_America = []\n",
        "Europe = []\n",
        "Africa = []\n",
        "\n",
        "Europe.extend(['Italy','Spain','United Kingdom','France','Belgium','Switzerland','Portugal','Turkey','Austria','Germany','Netherlands','Norway','Sweden','Denmark','Czechia','Ireland'])\n",
        "\n",
        "North_America.extend(['US','Canada'])\n",
        "South_America.append('Brazil')\n",
        "Asia.extend(['Iran','China','Korea, South','Israel','Malaysia','Japan'])\n",
        "Oceania.append('Australia')\n",
        "\n",
        "# Finding counts - c1 -Europe, c2 - North America, c3 -South America, c4 -Asia, c5-Oceania\n",
        "\n",
        "# Mapping countries with >= 50k cases to respective continents\n",
        "\n",
        "c1,c2,c3,c4,c5 = [0]*5\n",
        "\n",
        "c1+= int(df2[2:3]['ConfirmedCases']) + int(df2[3:4]['ConfirmedCases']) + int(df2[4:5]['ConfirmedCases']) + int(df2[5:6]['ConfirmedCases']) + int(df2[9:10]['ConfirmedCases'])\n",
        "+ int(df2[7:8]['ConfirmedCases']) + int(df2[10:11]['ConfirmedCases']) + int(df2[11:12]['ConfirmedCases']) + int(df2[12:13]['ConfirmedCases']) + int(df2[13:14]['ConfirmedCases'])\n",
        "+ int(df2[15:16]['ConfirmedCases']) + int(df2[17:18]['ConfirmedCases']) + int(df2[18:19]['ConfirmedCases']) + int(df2[21:22]['ConfirmedCases']) + int(df2[22:23]['ConfirmedCases'])\n",
        "+ int(df2[23:24]['ConfirmedCases'])\n",
        "\n",
        "c2+= int(df2[1:2]['ConfirmedCases']) + int(df2[14:15]['ConfirmedCases'])\n",
        "c3+= int(df2[16:17]['ConfirmedCases'])\n",
        "\n",
        "c4+= int(df2[0:1]['ConfirmedCases']) + int(df2[6:7]['ConfirmedCases']) + int(df2[8:9]['ConfirmedCases']) + int(df2[19:20]['ConfirmedCases']) + int(df2[24:25]['ConfirmedCases'])\n",
        "+ int(df2[25:26]['ConfirmedCases'])\n",
        "\n",
        "c5+= int(df2[20:21]['ConfirmedCases'])"
      ],
      "execution_count": 0,
      "outputs": []
    },
    {
      "cell_type": "code",
      "metadata": {
        "id": "5Pgu_RW9NM83",
        "colab_type": "code",
        "outputId": "16c47489-2d35-4ee6-9640-5ff8f07d3368",
        "colab": {
          "base_uri": "https://localhost:8080/",
          "height": 474
        }
      },
      "source": [
        "a = [c1,c2,c3,c4,c5]\n",
        "b = ['Europe','North_America','South_America','Asia','Oceania']\n",
        "plt.pie(a, labels=b,radius=2.4,autopct='%.1f%%')\n",
        "plt.show()\n",
        "\n",
        "# Continent-wise confirmed cases (for countries with over 50k cases)\n",
        "# This can be approximated very well for entire world (as other countries\n",
        "# have significantly less cases hence don't make much of an impact on the graph)"
      ],
      "execution_count": 29,
      "outputs": [
        {
          "output_type": "display_data",
          "data": {
            "image/png": "[encoded data removed]",
            "text/plain": [
              "<Figure size 432x288 with 1 Axes>"
            ]
          },
          "metadata": {
            "tags": []
          }
        }
      ]
    },
    {
      "cell_type": "markdown",
      "metadata": {
        "id": "d-UXadlhRFQ1",
        "colab_type": "text"
      },
      "source": [
        "Uptill April, as per the data is is clear that majority of the cases have occurred in **Asia**, **Europe** followed by **North America**. \n",
        "\n",
        "This gives us an insight as to which regions on the globe have been adversely affected by Covid-19. Remaining regions are still well-off maybe because of 1 of the following reasons -\n",
        "\n",
        "\n",
        "1.   People there have better immunity (maybe due to exercise, better diet)\n",
        "2.   Climate in those regions is not conducive for virus\n",
        "3.   Better measures taken by govt such as stricter lockdown, avoid letting people come into a country or leave from a country. Same holds for states as well. Perhaps even the people are more self-aware and conscious.\n",
        "\n",
        "4.   Healthcare system in those regions is stronger.\n",
        "\n"
      ]
    },
    {
      "cell_type": "code",
      "metadata": {
        "id": "IeusDOYmfi_s",
        "colab_type": "code",
        "outputId": "12c19f8d-d661-47bc-fddc-fada8d5dd898",
        "colab": {
          "base_uri": "https://localhost:8080/",
          "height": 225
        }
      },
      "source": [
        "# Now we create another very useful column which gives a good measure of the extent of\n",
        "# damage CoronaVirus has had in a country - Deaths per Million\n",
        "\n",
        "df2['Deaths per Million'] = df2.apply(lambda x:x.Fatalities/ x.ConfirmedCases * 1000000, axis=1)\n",
        "\n",
        "df2.sort_values(by=['ConfirmedCases'], inplace=True,ascending=False)\n",
        "df2 = df2[:17]                                                          \n",
        "df2.sort_values(by=['Deaths per Million'], inplace=True,ascending=False)\n",
        "df2.head()\n",
        "\n",
        "# Basically, for countries with more than 100,000 cases, I have sorted their list in D.O by \n",
        "# Deaths per Million"
      ],
      "execution_count": 30,
      "outputs": [
        {
          "output_type": "execute_result",
          "data": {
            "text/html": [
              "<div>\n",
              "<style scoped>\n",
              "    .dataframe tbody tr th:only-of-type {\n",
              "        vertical-align: middle;\n",
              "    }\n",
              "\n",
              "    .dataframe tbody tr th {\n",
              "        vertical-align: top;\n",
              "    }\n",
              "\n",
              "    .dataframe thead th {\n",
              "        text-align: right;\n",
              "    }\n",
              "</style>\n",
              "<table border=\"1\" class=\"dataframe\">\n",
              "  <thead>\n",
              "    <tr style=\"text-align: right;\">\n",
              "      <th></th>\n",
              "      <th>ConfirmedCases</th>\n",
              "      <th>Fatalities</th>\n",
              "      <th>Deaths per Million</th>\n",
              "    </tr>\n",
              "    <tr>\n",
              "      <th>Country</th>\n",
              "      <th></th>\n",
              "      <th></th>\n",
              "      <th></th>\n",
              "    </tr>\n",
              "  </thead>\n",
              "  <tbody>\n",
              "    <tr>\n",
              "      <th>Italy</th>\n",
              "      <td>2078445.0</td>\n",
              "      <td>223179.0</td>\n",
              "      <td>107377.871438</td>\n",
              "    </tr>\n",
              "    <tr>\n",
              "      <th>Spain</th>\n",
              "      <td>1614510.0</td>\n",
              "      <td>137486.0</td>\n",
              "      <td>85156.487108</td>\n",
              "    </tr>\n",
              "    <tr>\n",
              "      <th>United Kingdom</th>\n",
              "      <td>467602.0</td>\n",
              "      <td>38835.0</td>\n",
              "      <td>83051.398411</td>\n",
              "    </tr>\n",
              "    <tr>\n",
              "      <th>Netherlands</th>\n",
              "      <td>219626.0</td>\n",
              "      <td>17252.0</td>\n",
              "      <td>78551.719742</td>\n",
              "    </tr>\n",
              "    <tr>\n",
              "      <th>France</th>\n",
              "      <td>987338.0</td>\n",
              "      <td>72246.0</td>\n",
              "      <td>73172.510326</td>\n",
              "    </tr>\n",
              "  </tbody>\n",
              "</table>\n",
              "</div>"
            ],
            "text/plain": [
              "                ConfirmedCases  Fatalities  Deaths per Million\n",
              "Country                                                       \n",
              "Italy                2078445.0    223179.0       107377.871438\n",
              "Spain                1614510.0    137486.0        85156.487108\n",
              "United Kingdom        467602.0     38835.0        83051.398411\n",
              "Netherlands           219626.0     17252.0        78551.719742\n",
              "France                987338.0     72246.0        73172.510326"
            ]
          },
          "metadata": {
            "tags": []
          },
          "execution_count": 30
        }
      ]
    },
    {
      "cell_type": "code",
      "metadata": {
        "id": "6YSeKHCejmnA",
        "colab_type": "code",
        "outputId": "724d1305-7eda-47ba-e885-a9c83d36b91c",
        "colab": {
          "base_uri": "https://localhost:8080/",
          "height": 404
        }
      },
      "source": [
        "df2.plot(y='Deaths per Million',figsize = (23,6), kind='bar',color = 'green')\n",
        "plt.title('Deaths per Million for countries with cases north of 100,000')\n",
        "plt.xticks(rotation=0)\n",
        "plt.show()"
      ],
      "execution_count": 31,
      "outputs": [
        {
          "output_type": "display_data",
          "data": {
            "image/png": "[encoded data removed]",
            "text/plain": [
              "<Figure size 1656x432 with 1 Axes>"
            ]
          },
          "metadata": {
            "tags": [],
            "needs_background": "light"
          }
        }
      ]
    },
    {
      "cell_type": "markdown",
      "metadata": {
        "id": "kaJvjs3uDq35",
        "colab_type": "text"
      },
      "source": [
        "Finally, lets see how 10 most affected countries have fared over the past 2-3 months !"
      ]
    },
    {
      "cell_type": "code",
      "metadata": {
        "id": "FT8hGezd6fBn",
        "colab_type": "code",
        "outputId": "ed41b399-e6e9-44da-8294-bb4ffc3c2c5a",
        "colab": {
          "base_uri": "https://localhost:8080/",
          "height": 136
        }
      },
      "source": [
        "list_countries = ['China','US','Italy','Spain','Germany','France','Iran','United Kingdom','Korea, South','Switzerland','India']\n",
        "\n",
        "# These are the 10 countries with most confirmed cases\n",
        "\n",
        "var = train.groupby(['Date','Country'])['ConfirmedCases'].sum().reset_index().set_index('Date')\n",
        "var2 = var[var['Country'].isin(list_countries)]   # We only want those countries that are in our list\n",
        "\n",
        "var.head(2)\n"
      ],
      "execution_count": 32,
      "outputs": [
        {
          "output_type": "execute_result",
          "data": {
            "text/html": [
              "<div>\n",
              "<style scoped>\n",
              "    .dataframe tbody tr th:only-of-type {\n",
              "        vertical-align: middle;\n",
              "    }\n",
              "\n",
              "    .dataframe tbody tr th {\n",
              "        vertical-align: top;\n",
              "    }\n",
              "\n",
              "    .dataframe thead th {\n",
              "        text-align: right;\n",
              "    }\n",
              "</style>\n",
              "<table border=\"1\" class=\"dataframe\">\n",
              "  <thead>\n",
              "    <tr style=\"text-align: right;\">\n",
              "      <th></th>\n",
              "      <th>Country</th>\n",
              "      <th>ConfirmedCases</th>\n",
              "    </tr>\n",
              "    <tr>\n",
              "      <th>Date</th>\n",
              "      <th></th>\n",
              "      <th></th>\n",
              "    </tr>\n",
              "  </thead>\n",
              "  <tbody>\n",
              "    <tr>\n",
              "      <th>2020-01-22</th>\n",
              "      <td>Afghanistan</td>\n",
              "      <td>0.0</td>\n",
              "    </tr>\n",
              "    <tr>\n",
              "      <th>2020-01-22</th>\n",
              "      <td>Albania</td>\n",
              "      <td>0.0</td>\n",
              "    </tr>\n",
              "  </tbody>\n",
              "</table>\n",
              "</div>"
            ],
            "text/plain": [
              "                Country  ConfirmedCases\n",
              "Date                                   \n",
              "2020-01-22  Afghanistan             0.0\n",
              "2020-01-22      Albania             0.0"
            ]
          },
          "metadata": {
            "tags": []
          },
          "execution_count": 32
        }
      ]
    },
    {
      "cell_type": "code",
      "metadata": {
        "id": "i0fja2HMDls-",
        "colab_type": "code",
        "outputId": "89b1b1ef-fb27-4833-eaa4-924ac7f763d5",
        "colab": {
          "base_uri": "https://localhost:8080/",
          "height": 136
        }
      },
      "source": [
        "var2.head(2)\n",
        "\n"
      ],
      "execution_count": 33,
      "outputs": [
        {
          "output_type": "execute_result",
          "data": {
            "text/html": [
              "<div>\n",
              "<style scoped>\n",
              "    .dataframe tbody tr th:only-of-type {\n",
              "        vertical-align: middle;\n",
              "    }\n",
              "\n",
              "    .dataframe tbody tr th {\n",
              "        vertical-align: top;\n",
              "    }\n",
              "\n",
              "    .dataframe thead th {\n",
              "        text-align: right;\n",
              "    }\n",
              "</style>\n",
              "<table border=\"1\" class=\"dataframe\">\n",
              "  <thead>\n",
              "    <tr style=\"text-align: right;\">\n",
              "      <th></th>\n",
              "      <th>Country</th>\n",
              "      <th>ConfirmedCases</th>\n",
              "    </tr>\n",
              "    <tr>\n",
              "      <th>Date</th>\n",
              "      <th></th>\n",
              "      <th></th>\n",
              "    </tr>\n",
              "  </thead>\n",
              "  <tbody>\n",
              "    <tr>\n",
              "      <th>2020-01-22</th>\n",
              "      <td>China</td>\n",
              "      <td>548.0</td>\n",
              "    </tr>\n",
              "    <tr>\n",
              "      <th>2020-01-22</th>\n",
              "      <td>France</td>\n",
              "      <td>0.0</td>\n",
              "    </tr>\n",
              "  </tbody>\n",
              "</table>\n",
              "</div>"
            ],
            "text/plain": [
              "           Country  ConfirmedCases\n",
              "Date                              \n",
              "2020-01-22   China           548.0\n",
              "2020-01-22  France             0.0"
            ]
          },
          "metadata": {
            "tags": []
          },
          "execution_count": 33
        }
      ]
    },
    {
      "cell_type": "code",
      "metadata": {
        "id": "uVW8CwyIDmy9",
        "colab_type": "code",
        "outputId": "e5c3d0ca-1944-42c2-f517-be3d702ee473",
        "colab": {
          "base_uri": "https://localhost:8080/",
          "height": 567
        }
      },
      "source": [
        "plt.figure(figsize=(20,9))\n",
        "ax = sns.lineplot(x=var2.index, y=\"ConfirmedCases\", hue=\"Country\", data=var2 ,palette='muted').set_title('Cumulative line')\n",
        "\n",
        "plt.legend(loc=2, prop={'size': 11})\n",
        "plt.title('Cumulative trend plot for Confirmed Cases')\n",
        "plt.xticks(rotation=0);"
      ],
      "execution_count": 34,
      "outputs": [
        {
          "output_type": "display_data",
          "data": {
            "image/png": "[encoded data removed]",
            "text/plain": [
              "<Figure size 1440x648 with 1 Axes>"
            ]
          },
          "metadata": {
            "tags": [],
            "needs_background": "light"
          }
        }
      ]
    },
    {
      "cell_type": "markdown",
      "metadata": {
        "id": "Cyt-ssBUD9bh",
        "colab_type": "text"
      },
      "source": [
        "Some inferences - \n",
        "1. China has stabilized its new case reporting while all other countries are showing increase in this trend.\n",
        "\n",
        "\n",
        "2. In case of South Korea, their data indicates that , they realized and understood the pattern quite soon enough, and been able to cap increasing trend. This is also due to the fact that they also had encountered SARS epidemic recently - as a result, they were both physically and mentally prepared when Covid-19 struck, knowing very well what to do.\n",
        "It seems, from what is called **contact tracing** , they were able to figure their way out of this morass.\n",
        "\n",
        "\n",
        "\n",
        "3. India has very low number of confirmed reports till 02 April 2020 but it has seen sudden increase in number of confirmed cases since 15 March 2020. Actual rise of cases in India only began in May."
      ]
    },
    {
      "cell_type": "markdown",
      "metadata": {
        "id": "QrTthgHWpy2A",
        "colab_type": "text"
      },
      "source": [
        "Apart from what I have done, we could also study some of the most affected countries individually. "
      ]
    },
    {
      "cell_type": "markdown",
      "metadata": {
        "id": "SymqCT5J7W3y",
        "colab_type": "text"
      },
      "source": [
        "### Month wise analysis  -"
      ]
    },
    {
      "cell_type": "code",
      "metadata": {
        "id": "PaH_VXb7uW97",
        "colab_type": "code",
        "outputId": "de91f321-0a5f-4e67-95ee-5283329adad5",
        "colab": {
          "base_uri": "https://localhost:8080/",
          "height": 118
        }
      },
      "source": [
        "train.loc[:, 'Date'] = train.Date.dt.strftime(\"%m%d\")      \n",
        "test.loc[:, 'Date'] = test.Date.dt.strftime(\"%m%d\")   \n",
        "\n",
        "# Converting Date datatype to object(string) with just month and date\n",
        "\n",
        "# Look at how the date looks now :), much easier to work with\n",
        "\n",
        "df = train['Date']\n",
        "df.tail()                     # Note that dtype:object --> string"
      ],
      "execution_count": 35,
      "outputs": [
        {
          "output_type": "execute_result",
          "data": {
            "text/plain": [
              "23557    0403\n",
              "23558    0404\n",
              "23559    0405\n",
              "23560    0406\n",
              "23561    0407\n",
              "Name: Date, dtype: object"
            ]
          },
          "metadata": {
            "tags": []
          },
          "execution_count": 35
        }
      ]
    },
    {
      "cell_type": "code",
      "metadata": {
        "id": "LtyKKy5MZdsi",
        "colab_type": "code",
        "colab": {}
      },
      "source": [
        "x1,y1,z1,a1,b1 = [0] *5\n",
        "x2,y2,z2,a2,b2 = [0] *5\n",
        "\n",
        "for i in range(len(df)):\n",
        "  if(df[i][1]=='1'):                                            # Jan\n",
        "    x1+=int(train[i:i+1]['ConfirmedCases'])\n",
        "    x2+=int(train[i:i+1]['Fatalities'])\n",
        "\n",
        "  elif(df[i][1]=='2'):                                          # Feb\n",
        "    y1+=int(train[i:i+1]['ConfirmedCases'])\n",
        "    y2+=int(train[i:i+1]['Fatalities'])\n",
        "\n",
        "  elif(df[i][1]=='3'):                                          # Mar\n",
        "    z1+=int(train[i:i+1]['ConfirmedCases'])\n",
        "    z2+=int(train[i:i+1]['Fatalities'])\n",
        "  \n",
        "  elif(df[i][1]=='4'):                                          # Apr\n",
        "    a1+=int(train[i:i+1]['ConfirmedCases'])\n",
        "    a2+=int(train[i:i+1]['Fatalities'])\n",
        "\n",
        "  elif(df[i][1]=='5'):                                          # May\n",
        "    b1+=int(train[i:i+1]['ConfirmedCases'])\n",
        "    b2+=int(train[i:i+1]['Fatalities'])\n"
      ],
      "execution_count": 0,
      "outputs": []
    },
    {
      "cell_type": "code",
      "metadata": {
        "id": "KyGkJnQxj-ko",
        "colab_type": "code",
        "outputId": "1756f752-62f5-4d13-e62c-29c82ca151e4",
        "colab": {
          "base_uri": "https://localhost:8080/",
          "height": 281
        }
      },
      "source": [
        "Y = [x1,y1,z1,a1]\n",
        "X = ['Jan','Feb','Mar','Apr']\n",
        "plt.bar(X,Y,color='maroon',width=0.4)\n",
        "plt.title(\"No. of confirmed cases per month \")\n",
        "plt.show()\n"
      ],
      "execution_count": 37,
      "outputs": [
        {
          "output_type": "display_data",
          "data": {
            "image/png": "[encoded data removed]",
            "text/plain": [
              "<Figure size 432x288 with 1 Axes>"
            ]
          },
          "metadata": {
            "tags": [],
            "needs_background": "light"
          }
        }
      ]
    },
    {
      "cell_type": "code",
      "metadata": {
        "id": "O5PT27kBwOVJ",
        "colab_type": "code",
        "outputId": "1c6a8b61-8b14-47f3-e281-e5fab705cbdd",
        "colab": {
          "base_uri": "https://localhost:8080/",
          "height": 281
        }
      },
      "source": [
        "Y1 = [x2,y2,z2,a2]\n",
        "X = ['Jan','Feb','Mar','Apr']\n",
        "plt.bar(X,Y1,color='green',width=0.4)\n",
        "plt.title(\"Fatalities per month\")\n",
        "plt.show()"
      ],
      "execution_count": 38,
      "outputs": [
        {
          "output_type": "display_data",
          "data": {
            "image/png": "[encoded data removed]",
            "text/plain": [
              "<Figure size 432x288 with 1 Axes>"
            ]
          },
          "metadata": {
            "tags": [],
            "needs_background": "light"
          }
        }
      ]
    },
    {
      "cell_type": "markdown",
      "metadata": {
        "id": "40fSWdnGcdSa",
        "colab_type": "text"
      },
      "source": [
        "**Note:** Remember that we have data only upto 7th of April. Within those 7 days, numbers have overtaken the entire tally of March. "
      ]
    },
    {
      "cell_type": "markdown",
      "metadata": {
        "id": "HdvvDHvYcHe9",
        "colab_type": "text"
      },
      "source": [
        "### Encoding data ( Converting each value in a column to a number)\n",
        "\n",
        "\n"
      ]
    },
    {
      "cell_type": "code",
      "metadata": {
        "id": "_1yD92aYCuKY",
        "colab_type": "code",
        "outputId": "75c6c8d1-9ae1-475a-c033-599920376ac5",
        "colab": {
          "base_uri": "https://localhost:8080/",
          "height": 195
        }
      },
      "source": [
        "# Creating instance of labelencoder - Afghanistan (0) -> Zimbabwe (179)\n",
        "\n",
        "from sklearn.preprocessing import LabelEncoder\n",
        "labelencoder = LabelEncoder()\n",
        "\n",
        "train['Country'] = labelencoder.fit_transform(train['Country'])\n",
        "test['Country'] = labelencoder.transform(test['Country'])\n",
        "train.tail()\n",
        "\n",
        "# NOTE: Actually, countries should be OHE, instead of Label Encoder as  we don't want the model to \n",
        "# learn a dependency that Zimbabwe > US > UK >...Afghanistan (corresponding to their numbers).\n",
        "\n",
        "# For simplicity purposes, I have label encoded them, otherwise we would end up with more than 180 columns\n",
        "# in the training & testing dataset "
      ],
      "execution_count": 39,
      "outputs": [
        {
          "output_type": "execute_result",
          "data": {
            "text/html": [
              "<div>\n",
              "<style scoped>\n",
              "    .dataframe tbody tr th:only-of-type {\n",
              "        vertical-align: middle;\n",
              "    }\n",
              "\n",
              "    .dataframe tbody tr th {\n",
              "        vertical-align: top;\n",
              "    }\n",
              "\n",
              "    .dataframe thead th {\n",
              "        text-align: right;\n",
              "    }\n",
              "</style>\n",
              "<table border=\"1\" class=\"dataframe\">\n",
              "  <thead>\n",
              "    <tr style=\"text-align: right;\">\n",
              "      <th></th>\n",
              "      <th>Id</th>\n",
              "      <th>State</th>\n",
              "      <th>Country</th>\n",
              "      <th>Date</th>\n",
              "      <th>ConfirmedCases</th>\n",
              "      <th>Fatalities</th>\n",
              "    </tr>\n",
              "  </thead>\n",
              "  <tbody>\n",
              "    <tr>\n",
              "      <th>23557</th>\n",
              "      <td>32708</td>\n",
              "      <td>Zimbabwe</td>\n",
              "      <td>179</td>\n",
              "      <td>0403</td>\n",
              "      <td>9.0</td>\n",
              "      <td>1.0</td>\n",
              "    </tr>\n",
              "    <tr>\n",
              "      <th>23558</th>\n",
              "      <td>32709</td>\n",
              "      <td>Zimbabwe</td>\n",
              "      <td>179</td>\n",
              "      <td>0404</td>\n",
              "      <td>9.0</td>\n",
              "      <td>1.0</td>\n",
              "    </tr>\n",
              "    <tr>\n",
              "      <th>23559</th>\n",
              "      <td>32710</td>\n",
              "      <td>Zimbabwe</td>\n",
              "      <td>179</td>\n",
              "      <td>0405</td>\n",
              "      <td>9.0</td>\n",
              "      <td>1.0</td>\n",
              "    </tr>\n",
              "    <tr>\n",
              "      <th>23560</th>\n",
              "      <td>32711</td>\n",
              "      <td>Zimbabwe</td>\n",
              "      <td>179</td>\n",
              "      <td>0406</td>\n",
              "      <td>10.0</td>\n",
              "      <td>1.0</td>\n",
              "    </tr>\n",
              "    <tr>\n",
              "      <th>23561</th>\n",
              "      <td>32712</td>\n",
              "      <td>Zimbabwe</td>\n",
              "      <td>179</td>\n",
              "      <td>0407</td>\n",
              "      <td>11.0</td>\n",
              "      <td>2.0</td>\n",
              "    </tr>\n",
              "  </tbody>\n",
              "</table>\n",
              "</div>"
            ],
            "text/plain": [
              "          Id     State  Country  Date  ConfirmedCases  Fatalities\n",
              "23557  32708  Zimbabwe      179  0403             9.0         1.0\n",
              "23558  32709  Zimbabwe      179  0404             9.0         1.0\n",
              "23559  32710  Zimbabwe      179  0405             9.0         1.0\n",
              "23560  32711  Zimbabwe      179  0406            10.0         1.0\n",
              "23561  32712  Zimbabwe      179  0407            11.0         2.0"
            ]
          },
          "metadata": {
            "tags": []
          },
          "execution_count": 39
        }
      ]
    },
    {
      "cell_type": "code",
      "metadata": {
        "id": "b8k5v5GSh5zz",
        "colab_type": "code",
        "outputId": "3394987f-2dbc-4b20-fbcc-9fce9fd3b926",
        "colab": {
          "base_uri": "https://localhost:8080/",
          "height": 195
        }
      },
      "source": [
        "test.head()"
      ],
      "execution_count": 40,
      "outputs": [
        {
          "output_type": "execute_result",
          "data": {
            "text/html": [
              "<div>\n",
              "<style scoped>\n",
              "    .dataframe tbody tr th:only-of-type {\n",
              "        vertical-align: middle;\n",
              "    }\n",
              "\n",
              "    .dataframe tbody tr th {\n",
              "        vertical-align: top;\n",
              "    }\n",
              "\n",
              "    .dataframe thead th {\n",
              "        text-align: right;\n",
              "    }\n",
              "</style>\n",
              "<table border=\"1\" class=\"dataframe\">\n",
              "  <thead>\n",
              "    <tr style=\"text-align: right;\">\n",
              "      <th></th>\n",
              "      <th>ForecastId</th>\n",
              "      <th>State</th>\n",
              "      <th>Country</th>\n",
              "      <th>Date</th>\n",
              "    </tr>\n",
              "  </thead>\n",
              "  <tbody>\n",
              "    <tr>\n",
              "      <th>0</th>\n",
              "      <td>1</td>\n",
              "      <td>Afghanistan</td>\n",
              "      <td>0</td>\n",
              "      <td>0326</td>\n",
              "    </tr>\n",
              "    <tr>\n",
              "      <th>1</th>\n",
              "      <td>2</td>\n",
              "      <td>Afghanistan</td>\n",
              "      <td>0</td>\n",
              "      <td>0327</td>\n",
              "    </tr>\n",
              "    <tr>\n",
              "      <th>2</th>\n",
              "      <td>3</td>\n",
              "      <td>Afghanistan</td>\n",
              "      <td>0</td>\n",
              "      <td>0328</td>\n",
              "    </tr>\n",
              "    <tr>\n",
              "      <th>3</th>\n",
              "      <td>4</td>\n",
              "      <td>Afghanistan</td>\n",
              "      <td>0</td>\n",
              "      <td>0329</td>\n",
              "    </tr>\n",
              "    <tr>\n",
              "      <th>4</th>\n",
              "      <td>5</td>\n",
              "      <td>Afghanistan</td>\n",
              "      <td>0</td>\n",
              "      <td>0330</td>\n",
              "    </tr>\n",
              "  </tbody>\n",
              "</table>\n",
              "</div>"
            ],
            "text/plain": [
              "   ForecastId        State  Country  Date\n",
              "0           1  Afghanistan        0  0326\n",
              "1           2  Afghanistan        0  0327\n",
              "2           3  Afghanistan        0  0328\n",
              "3           4  Afghanistan        0  0329\n",
              "4           5  Afghanistan        0  0330"
            ]
          },
          "metadata": {
            "tags": []
          },
          "execution_count": 40
        }
      ]
    },
    {
      "cell_type": "code",
      "metadata": {
        "id": "a98WZ4kPlot-",
        "colab_type": "code",
        "outputId": "28883dff-7c80-42d2-f174-45a2059d7929",
        "colab": {
          "base_uri": "https://localhost:8080/",
          "height": 195
        }
      },
      "source": [
        "# Extracting the things to be predicted.\n",
        "\n",
        "train_y1 = train['ConfirmedCases']\n",
        "train_y2 = train['Fatalities']\n",
        "train = train.drop(['ConfirmedCases','Fatalities','Id','State'],axis=1)     # Id is useless\n",
        "test = test.drop(['ForecastId','State'],axis=1)     # Id is useless\n",
        "train.head()\n",
        "\n",
        "# We also need to find a way to represent Date such that model can make valuable inferences from it"
      ],
      "execution_count": 41,
      "outputs": [
        {
          "output_type": "execute_result",
          "data": {
            "text/html": [
              "<div>\n",
              "<style scoped>\n",
              "    .dataframe tbody tr th:only-of-type {\n",
              "        vertical-align: middle;\n",
              "    }\n",
              "\n",
              "    .dataframe tbody tr th {\n",
              "        vertical-align: top;\n",
              "    }\n",
              "\n",
              "    .dataframe thead th {\n",
              "        text-align: right;\n",
              "    }\n",
              "</style>\n",
              "<table border=\"1\" class=\"dataframe\">\n",
              "  <thead>\n",
              "    <tr style=\"text-align: right;\">\n",
              "      <th></th>\n",
              "      <th>Country</th>\n",
              "      <th>Date</th>\n",
              "    </tr>\n",
              "  </thead>\n",
              "  <tbody>\n",
              "    <tr>\n",
              "      <th>0</th>\n",
              "      <td>0</td>\n",
              "      <td>0122</td>\n",
              "    </tr>\n",
              "    <tr>\n",
              "      <th>1</th>\n",
              "      <td>0</td>\n",
              "      <td>0123</td>\n",
              "    </tr>\n",
              "    <tr>\n",
              "      <th>2</th>\n",
              "      <td>0</td>\n",
              "      <td>0124</td>\n",
              "    </tr>\n",
              "    <tr>\n",
              "      <th>3</th>\n",
              "      <td>0</td>\n",
              "      <td>0125</td>\n",
              "    </tr>\n",
              "    <tr>\n",
              "      <th>4</th>\n",
              "      <td>0</td>\n",
              "      <td>0126</td>\n",
              "    </tr>\n",
              "  </tbody>\n",
              "</table>\n",
              "</div>"
            ],
            "text/plain": [
              "   Country  Date\n",
              "0        0  0122\n",
              "1        0  0123\n",
              "2        0  0124\n",
              "3        0  0125\n",
              "4        0  0126"
            ]
          },
          "metadata": {
            "tags": []
          },
          "execution_count": 41
        }
      ]
    },
    {
      "cell_type": "code",
      "metadata": {
        "id": "0tFeA2pxfBxC",
        "colab_type": "code",
        "outputId": "ab068e8a-f792-4a4c-f7b4-8c62c3df989e",
        "colab": {
          "base_uri": "https://localhost:8080/",
          "height": 195
        }
      },
      "source": [
        "# Lets change datatype of Date from string to int so that it can be fed to the model\n",
        "\n",
        "# This seems reasonable as greater the number, more recent is the day\n",
        "\n",
        "train['Date'] = train['Date'].astype(int)\n",
        "test['Date'] = test['Date'].astype(int)\n",
        "train.head()\n"
      ],
      "execution_count": 42,
      "outputs": [
        {
          "output_type": "execute_result",
          "data": {
            "text/html": [
              "<div>\n",
              "<style scoped>\n",
              "    .dataframe tbody tr th:only-of-type {\n",
              "        vertical-align: middle;\n",
              "    }\n",
              "\n",
              "    .dataframe tbody tr th {\n",
              "        vertical-align: top;\n",
              "    }\n",
              "\n",
              "    .dataframe thead th {\n",
              "        text-align: right;\n",
              "    }\n",
              "</style>\n",
              "<table border=\"1\" class=\"dataframe\">\n",
              "  <thead>\n",
              "    <tr style=\"text-align: right;\">\n",
              "      <th></th>\n",
              "      <th>Country</th>\n",
              "      <th>Date</th>\n",
              "    </tr>\n",
              "  </thead>\n",
              "  <tbody>\n",
              "    <tr>\n",
              "      <th>0</th>\n",
              "      <td>0</td>\n",
              "      <td>122</td>\n",
              "    </tr>\n",
              "    <tr>\n",
              "      <th>1</th>\n",
              "      <td>0</td>\n",
              "      <td>123</td>\n",
              "    </tr>\n",
              "    <tr>\n",
              "      <th>2</th>\n",
              "      <td>0</td>\n",
              "      <td>124</td>\n",
              "    </tr>\n",
              "    <tr>\n",
              "      <th>3</th>\n",
              "      <td>0</td>\n",
              "      <td>125</td>\n",
              "    </tr>\n",
              "    <tr>\n",
              "      <th>4</th>\n",
              "      <td>0</td>\n",
              "      <td>126</td>\n",
              "    </tr>\n",
              "  </tbody>\n",
              "</table>\n",
              "</div>"
            ],
            "text/plain": [
              "   Country  Date\n",
              "0        0   122\n",
              "1        0   123\n",
              "2        0   124\n",
              "3        0   125\n",
              "4        0   126"
            ]
          },
          "metadata": {
            "tags": []
          },
          "execution_count": 42
        }
      ]
    },
    {
      "cell_type": "markdown",
      "metadata": {
        "id": "SnJRpU9XwiSs",
        "colab_type": "text"
      },
      "source": [
        "**Note:**  This input to a model, is one that I made just for show. Obviously it can be used, but there are much better ways to create an input for a model.\n",
        "\n",
        "After this, we can proceed with creating our model to predict confirmed cases and fatalities, if we feel so. Else, we could augment and tune our dataset to a much better distribution (more uniform) by various techniques such as `augmentation`, `standardization`, etc."
      ]
    }
  ]
}